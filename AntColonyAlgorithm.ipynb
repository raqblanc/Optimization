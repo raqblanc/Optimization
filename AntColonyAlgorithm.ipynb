{
 "cells": [
  {
   "cell_type": "markdown",
   "metadata": {},
   "source": [
    "## 1. Presudocode\n",
    "set parameters, initialize phromone trails\n",
    "\n",
    "__while__ termination condition not met __do__\n",
    "\n",
    "\n",
    "&nbsp;&nbsp;&nbsp;&nbsp;&nbsp;&nbsp;*ConstructAntSolution*\n",
    "\n",
    "&nbsp;&nbsp;&nbsp;&nbsp;&nbsp;&nbsp;*UpdatePheromone*\n",
    "   \n",
    "__endwhile__"
   ]
  },
  {
   "cell_type": "markdown",
   "metadata": {},
   "source": [
    "## Ant System (AS)"
   ]
  },
  {
   "cell_type": "code",
   "execution_count": 1,
   "metadata": {},
   "outputs": [],
   "source": [
    "import os\n",
    "import csv\n",
    "import numpy as np"
   ]
  },
  {
   "cell_type": "code",
   "execution_count": 2,
   "metadata": {},
   "outputs": [],
   "source": [
    "class Edge:\n",
    "    def __init__ (self, o, d):\n",
    "        self.ori = o\n",
    "        self.dest = d"
   ]
  },
  {
   "cell_type": "code",
   "execution_count": 18,
   "metadata": {},
   "outputs": [],
   "source": [
    "def isFeasible(edge, solution_construction): #an edge is feasible if the ant has not chosen the destination node yet\n",
    "    return not edge in solution_construction #TO DO"
   ]
  },
  {
   "cell_type": "code",
   "execution_count": 19,
   "metadata": {},
   "outputs": [],
   "source": [
    "def TSP_construct_termination(solution_construction):\n",
    "    if not solution_construction:\n",
    "        return False\n",
    "    else:\n",
    "        return solution_construction[-1].dest == 0 #Last edge destination is not node 0  "
   ]
  },
  {
   "cell_type": "code",
   "execution_count": 5,
   "metadata": {},
   "outputs": [],
   "source": [
    "def calculate_probability(distance, pheromone_trail, edge):\n",
    "    alpha = 1 # >= 0\n",
    "    beta = 5 # >= 1\n",
    "    eta = 1 / distance[edge.ori][edge.dest]\n",
    "    numerator = pow(pheromone_trail[edge.ori][edge.dest], alpha) * pow(eta, beta)\n",
    "\n",
    "    denominator = 0\n",
    "    for l, dist in enumerate(distance[edge.ori]):\n",
    "        if dist > 0: #Ignore nodes without connection (-1) or the same node (0)\n",
    "            denominator += pow(pheromone_trail[edge.ori][l], alpha) * pow(1/distance[edge.ori][l],beta)\n",
    "\n",
    "    return numerator / denominator"
   ]
  },
  {
   "cell_type": "code",
   "execution_count": 11,
   "metadata": {},
   "outputs": [],
   "source": [
    "def constructAntSolution(distance, pheromone_trail):\n",
    "    solution_construction = [] #path (edges)\n",
    "    current_node = 0\n",
    "\n",
    "    while not TSP_construct_termination(solution_construction): \n",
    "        #Select next node\n",
    "        p = []\n",
    "        adyacents = []\n",
    "        for ady, dist in enumerate(distance[current_node]):\n",
    "            if dist > 0: #Ignore nodes without connection (-1) or the same node (0)\n",
    "                edge = Edge(current_node, ady)\n",
    "                if isFeasible(edge, solution_construction):\n",
    "                    p.append(calculate_probability(distance, pheromone_trail, edge))\n",
    "                else:\n",
    "                    p.append(0)\n",
    "                adyacents.append(ady)\n",
    "\n",
    "        next_node = np.random.choice(adyacents, 1, p=p)[0]\n",
    "        solution_construction.append(Edge(current_node, next_node))\n",
    "        current_node = next_node\n",
    "    return solution_construction"
   ]
  },
  {
   "cell_type": "code",
   "execution_count": 12,
   "metadata": {},
   "outputs": [],
   "source": [
    "def read_data(path):\n",
    "    graph = []\n",
    "    with open(path, \"r\") as f:\n",
    "        csv.reader(f, delimiter=\" \")\n",
    "        for line in f:\n",
    "            data = line.split(\" \")\n",
    "            costs = [float(x.replace(\"\\n\", \"\")) for x in data]\n",
    "            graph.append(costs)\n",
    "    return graph"
   ]
  },
  {
   "cell_type": "code",
   "execution_count": 21,
   "metadata": {},
   "outputs": [
    {
     "name": "stdout",
     "output_type": "stream",
     "text": [
      "True\n",
      "True\n",
      "True\n",
      "True\n",
      "True\n",
      "True\n",
      "True\n",
      "True\n",
      "True\n",
      "True\n",
      "True\n",
      "True\n",
      "True\n",
      "True\n",
      "True\n",
      "True\n",
      "True\n",
      "True\n",
      "True\n",
      "True\n",
      "True\n",
      "True\n",
      "True\n",
      "True\n",
      "True\n",
      "True\n",
      "True\n",
      "True\n",
      "True\n",
      "True\n",
      "True\n",
      "True\n",
      "True\n",
      "True\n",
      "True\n",
      "True\n",
      "True\n",
      "True\n",
      "True\n",
      "True\n",
      "True\n",
      "True\n",
      "True\n",
      "True\n",
      "True\n",
      "True\n",
      "True\n",
      "True\n",
      "True\n",
      "True\n",
      "True\n",
      "True\n",
      "True\n",
      "True\n",
      "True\n",
      "True\n",
      "True\n",
      "True\n",
      "True\n",
      "( 0 , 1 )\n",
      "( 1 , 2 )\n",
      "( 2 , 1 )\n",
      "( 1 , 2 )\n",
      "( 2 , 1 )\n",
      "( 1 , 2 )\n",
      "( 2 , 1 )\n",
      "( 1 , 2 )\n",
      "( 2 , 1 )\n",
      "( 1 , 2 )\n",
      "( 2 , 1 )\n",
      "( 1 , 2 )\n",
      "( 2 , 1 )\n",
      "( 1 , 2 )\n",
      "( 2 , 1 )\n",
      "( 1 , 2 )\n",
      "( 2 , 1 )\n",
      "( 1 , 2 )\n",
      "( 2 , 1 )\n",
      "( 1 , 0 )\n"
     ]
    }
   ],
   "source": [
    "path = os.path.join(os.getcwd(), 'dataset', \"tsp_dataset1.txt\")\n",
    "graph = read_data(path)\n",
    "n = len(graph)\n",
    "pheromone_trail = []\n",
    "\n",
    "#Initialize trail\n",
    "for i in range(n):\n",
    "    pheromone_trail.append([0.000000001]*n)\n",
    "\n",
    "\n",
    "a = constructAntSolution(graph, pheromone_trail)\n",
    "\n",
    "for v in a:\n",
    "    print(\"(\", v.ori, \",\", v.dest, \")\")\n"
   ]
  },
  {
   "cell_type": "code",
   "execution_count": null,
   "metadata": {},
   "outputs": [],
   "source": []
  }
 ],
 "metadata": {
  "kernelspec": {
   "display_name": "Python 3",
   "language": "python",
   "name": "python3"
  },
  "language_info": {
   "codemirror_mode": {
    "name": "ipython",
    "version": 3
   },
   "file_extension": ".py",
   "mimetype": "text/x-python",
   "name": "python",
   "nbconvert_exporter": "python",
   "pygments_lexer": "ipython3",
   "version": "3.9.1"
  }
 },
 "nbformat": 4,
 "nbformat_minor": 4
}
