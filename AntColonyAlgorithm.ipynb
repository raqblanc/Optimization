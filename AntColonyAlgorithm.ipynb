{
 "cells": [
  {
   "cell_type": "code",
   "execution_count": 1,
   "metadata": {},
   "outputs": [],
   "source": [
    "def read_data(path):\n",
    "    start = 7\n",
    "    row = 0\n",
    "    cities = []\n",
    "    with open(path, \"r\") as f:\n",
    "        csv.reader(f, delimiter=\" \")\n",
    "        for line in f:\n",
    "            try:\n",
    "                if row > start:\n",
    "                    data = line.split(\" \")\n",
    "                    data = [float(x.replace(\"\\n\", \"\")) for x in data]\n",
    "                    cities.append([data[1],data[2]])\n",
    "            except:\n",
    "                pass\n",
    "            row += 1\n",
    "    return cities"
   ]
  },
  {
   "cell_type": "markdown",
   "metadata": {},
   "source": [
    "## 1. Presudocode\n",
    "set parameters, initialize phromone trails\n",
    "\n",
    "__while__ termination condition not met __do__\n",
    "\n",
    "\n",
    "&nbsp;&nbsp;&nbsp;&nbsp;&nbsp;&nbsp;*ConstructAntSolution*\n",
    "\n",
    "&nbsp;&nbsp;&nbsp;&nbsp;&nbsp;&nbsp;*UpdatePheromone*\n",
    "   \n",
    "__endwhile__"
   ]
  },
  {
   "cell_type": "markdown",
   "metadata": {},
   "source": [
    "## Ant System (AS)"
   ]
  },
  {
   "cell_type": "code",
   "execution_count": 2,
   "metadata": {},
   "outputs": [],
   "source": [
    "import os\n",
    "import csv\n",
    "import numpy as np\n",
    "import math\n",
    "from datetime import datetime"
   ]
  },
  {
   "cell_type": "code",
   "execution_count": 3,
   "metadata": {},
   "outputs": [],
   "source": [
    "class Edge:\n",
    "    def __init__ (self, o, d):\n",
    "        self.ori = o\n",
    "        self.dest = d"
   ]
  },
  {
   "cell_type": "code",
   "execution_count": 4,
   "metadata": {},
   "outputs": [],
   "source": [
    "def isFeasible(edge, solution_construction): #an edge is feasible if the ant has not chosen the destination node yet\n",
    "    for e in solution_construction:\n",
    "        if e.ori == edge.dest or e.dest == edge.dest:\n",
    "            return False\n",
    "    return True"
   ]
  },
  {
   "cell_type": "code",
   "execution_count": 5,
   "metadata": {},
   "outputs": [],
   "source": [
    "def TSP_construct_termination(solution_construction, n):\n",
    "    return len(solution_construction) == n - 1"
   ]
  },
  {
   "cell_type": "code",
   "execution_count": 6,
   "metadata": {},
   "outputs": [],
   "source": [
    "def distance(city1, city2):\n",
    "    x1 = city1[0]\n",
    "    x2 = city1[1]\n",
    "    y1 = city2[0]\n",
    "    y2 = city2[1]\n",
    "    return pow(pow(x2-x1, 2)+pow(y2-y1,2),1/2)"
   ]
  },
  {
   "cell_type": "code",
   "execution_count": 7,
   "metadata": {},
   "outputs": [],
   "source": [
    "def calculate_probability(cities, edge, pheromone_trail, solution_construction):\n",
    "    alpha = 1 # >= 0\n",
    "    beta = 1 # >= 1\n",
    "    eta = 1 / distance(cities[edge.ori], cities[edge.dest])\n",
    "    numerator = pow(pheromone_trail[edge.ori][edge.dest], alpha) * pow(eta, beta)\n",
    "    \n",
    "    denominator = 0\n",
    "    for l, city in enumerate(cities):\n",
    "        if edge.ori != l:\n",
    "            if isFeasible(Edge(edge.ori, l), solution_construction):\n",
    "                denominator += pow(pheromone_trail[edge.ori][l], alpha) * pow(1/distance(cities[edge.ori], city),beta)\n",
    "    \n",
    "    return numerator / denominator"
   ]
  },
  {
   "cell_type": "code",
   "execution_count": 8,
   "metadata": {},
   "outputs": [],
   "source": [
    "def constructAntSolution(cities, pheromone_trail):\n",
    "    i = 0\n",
    "    n = len(cities)\n",
    "    solution_construction = []\n",
    "    while not TSP_construct_termination(solution_construction, n):\n",
    "        p = []\n",
    "        a = []\n",
    "        for j, city in enumerate(cities):\n",
    "            if i != j:\n",
    "                edge = Edge(i, j)\n",
    "                if isFeasible(edge, solution_construction):\n",
    "                    p.append(calculate_probability(cities, edge, pheromone_trail, solution_construction))\n",
    "                else:\n",
    "                    p.append(0)\n",
    "                a.append(j)\n",
    "        \n",
    "        j = np.random.choice(a, 1, p=p)[0]\n",
    "        \n",
    "        solution_construction.append(Edge(i, j))\n",
    "        i = j\n",
    "    solution_construction.append(Edge(i, 0))\n",
    "    return solution_construction"
   ]
  },
  {
   "cell_type": "code",
   "execution_count": 9,
   "metadata": {},
   "outputs": [],
   "source": [
    "def updatePheromone(pheromone_trail, solutions, cities):\n",
    "    evaporation_rate = 0.5\n",
    "    Q = 500\n",
    "    \n",
    "    # Evaporation\n",
    "    for i in range(len(pheromone_trail)):\n",
    "        for j in range(len(pheromone_trail)):\n",
    "            pheromone_trail[i][j] *= (1 - evaporation_rate)\n",
    "    \n",
    "    for ant_solution in solutions:\n",
    "        for edge in ant_solution:\n",
    "            pheromone_trail[edge.ori][edge.dest] += Q / distance(cities[edge.ori], cities[edge.dest])"
   ]
  },
  {
   "cell_type": "code",
   "execution_count": 10,
   "metadata": {},
   "outputs": [],
   "source": [
    "def updateBest(cities, best_cost, solutions):\n",
    "    best_path = -1\n",
    "    for i, sol in enumerate(solutions):\n",
    "        total = 0\n",
    "        for edge in sol:\n",
    "            total += distance(cities[edge.ori], cities[edge.dest])\n",
    "        if total < best_cost:\n",
    "            best_path = i\n",
    "            best_cost = total\n",
    "    return best_cost, best_path"
   ]
  },
  {
   "cell_type": "code",
   "execution_count": 11,
   "metadata": {},
   "outputs": [],
   "source": [
    "def solution_string(sol):\n",
    "    s = \"\"\n",
    "    for e in sol:\n",
    "        s+= \"(\" + str(e.ori) + \",\" + str(e.dest) + \")  \"\n",
    "    print(\"\\n\")\n",
    "    return s"
   ]
  },
  {
   "cell_type": "code",
   "execution_count": 12,
   "metadata": {},
   "outputs": [],
   "source": [
    "def aco(cities, m, n, steps):  \n",
    "    pheromone_trail = []\n",
    "    solutions = []\n",
    "    best_path = []\n",
    "    best_cost = math.inf\n",
    "\n",
    "    # Initialize trail\n",
    "    for i in range(n):\n",
    "        pheromone_trail.append([0.000000001]*n)\n",
    "\n",
    "    for t in range(tours):\n",
    "        #print(\"++++++++++++++++++++++++++++++++++++++++++++++ STEP\", s, \"++++++++++++++++++++++++++++++++++++++++++++++\")\n",
    "        # For each ant, construct a solution\n",
    "        for ant in range(m):\n",
    "            #print(\"----------------------------------------------- ANT\", ant, \"----------------------------------------------\")\n",
    "            sol = constructAntSolution(cities, pheromone_trail)\n",
    "\n",
    "            solutions.append(sol)\n",
    "\n",
    "            #s = solution_string(sol)\n",
    "            #print(\"Solution:\", s)\n",
    "\n",
    "        # Update pheromone trail\n",
    "        updatePheromone(pheromone_trail, solutions, cities)\n",
    "\n",
    "        #Update best path\n",
    "        best_cost, best_path = updateBest(cities, best_cost, solutions)\n",
    "        #s = solution_string(solutions[best_path])\n",
    "        #print(\"------------------------------------------------------------------------------------------------\")\n",
    "        #print(\"|                                                                                              |\")\n",
    "        #print(\"| Best solution (\", best_cost, \"): \", s)\n",
    "        #print(\"|                                                                                              |\")\n",
    "        #print(\"------------------------------------------------------------------------------------------------\")\n",
    "    return best_cost, best_path"
   ]
  },
  {
   "cell_type": "code",
   "execution_count": 14,
   "metadata": {
    "scrolled": false
   },
   "outputs": [
    {
     "name": "stdout",
     "output_type": "stream",
     "text": [
      "[10, 15, 20, 25, 30, 35, 40, 45, 50, 55]\n",
      "[118.878, 91.703, 305.6, 541.692, 958.113, 288.958, 657.79, 138.083, 864.964, 185.56300000000002]\n"
     ]
    }
   ],
   "source": [
    "path = os.path.join(os.getcwd(), 'dataset', 'tsp', \"prueba.txt\")\n",
    "cities = read_data(path)\n",
    "\n",
    "m = 10 # number of ants\n",
    "n = len(cities) # number of cities\n",
    "tours = 500 # number of tours\n",
    "\n",
    "iterations = 10\n",
    "\n",
    "ants = []\n",
    "\n",
    "times = []\n",
    "\n",
    "costs = []\n",
    "paths = []\n",
    "\n",
    "#current_milli_time = lambda: int(round(time.time() * 1000))\n",
    "\n",
    "\n",
    "for it in range(iterations):\n",
    "    \n",
    "    ants.append(m)\n",
    "    \n",
    "    start=datetime.now()\n",
    "    \n",
    "    best_cost, best_path = aco(cities, m, n, tours)\n",
    "    \n",
    "    costs.append(best_cost)\n",
    "    paths.append(best_path)\n",
    "    \n",
    "    time = datetime.now()-start\n",
    "\n",
    "    times.append(time.microseconds*0.001)\n",
    "    \n",
    "    m+=5\n",
    "\n",
    "print(\"Ants:\", ants)\n",
    "print(\"Costs:\", costs)\n",
    "print(\"Paths:\", paths)\n",
    "print(\"Times:\", times)\n"
   ]
  },
  {
   "cell_type": "markdown",
   "metadata": {},
   "source": [
    "## Primera prueba\n",
    "\n",
    "m = 10\n",
    "\n",
    "n = 17\n",
    "\n",
    "tours = 500\n",
    "\n",
    "iterations = 10\n",
    "\n",
    "Las hormigas, en cada iteración, aumentan 5\n",
    "\n",
    "-----------------------\n",
    "\n",
    "ITERACIÓN 1 2 3 4 5 6 7 8 9 10\n",
    "\n",
    "M 10, 15, 20, 25, 30, 35 ...\n",
    "\n",
    "TIEMPO [118.878, 91.703, 305.6, 541.692, 958.113, 288.958, 657.79, 138.083, 864.964, 185.56300000000002]\n"
   ]
  },
  {
   "cell_type": "code",
   "execution_count": null,
   "metadata": {},
   "outputs": [],
   "source": []
  }
 ],
 "metadata": {
  "kernelspec": {
   "display_name": "Python 3",
   "language": "python",
   "name": "python3"
  },
  "language_info": {
   "codemirror_mode": {
    "name": "ipython",
    "version": 3
   },
   "file_extension": ".py",
   "mimetype": "text/x-python",
   "name": "python",
   "nbconvert_exporter": "python",
   "pygments_lexer": "ipython3",
   "version": "3.9.1"
  }
 },
 "nbformat": 4,
 "nbformat_minor": 4
}
