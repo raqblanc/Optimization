{
 "cells": [
  {
   "cell_type": "code",
   "execution_count": null,
   "metadata": {},
   "outputs": [],
   "source": [
    "def read_data(path):\n",
    "    cities = []\n",
    "    with open(path, \"r\") as f:\n",
    "        csv.reader(f, delimiter=\" \")\n",
    "        for line in f:\n",
    "            data = line.split(\" \")\n",
    "            data = [float(x.replace(\"\\n\", \"\")) for x in data]\n",
    "            cities.append([data[0],data[1]])\n",
    "    return cities"
   ]
  },
  {
   "cell_type": "code",
   "execution_count": null,
   "metadata": {},
   "outputs": [],
   "source": [
    "def init():\n",
    "    line.set_data([], [])\n",
    "    return line,\n",
    "\n",
    "def animate(i, every_sol,ax,tours,m):\n",
    "    \n",
    "    t = (i*tours)//(tours*m-1) + 1\n",
    "    \n",
    "    ant = i%m + 1\n",
    "    \n",
    "    title = \"Tour: \" + str(t) + \"     Ant: \" + str(ant) \n",
    "    ax.set_title(title, va='top')\n",
    "    sol = every_sol[i]\n",
    "    x = []\n",
    "    y = []\n",
    "    \n",
    "    for edge in sol:\n",
    "        x.append(cities[edge.ori][0])\n",
    "        y.append(cities[edge.ori][1])\n",
    "    \n",
    "    x.append(cities[0][0])\n",
    "    y.append(cities[0][1])\n",
    "    \n",
    "    line.set_data(x, y)\n",
    "    return line,"
   ]
  },
  {
   "cell_type": "code",
   "execution_count": null,
   "metadata": {},
   "outputs": [],
   "source": [
    "def save_animation(tours, m, every_sol, minx, miny, maxx, maxy):\n",
    "    Writer = writers['ffmpeg']\n",
    "    writer = Writer(fps=10, metadata=dict(artist='Me'), bitrate=100)\n",
    "\n",
    "    global line\n",
    "\n",
    "    fig = plt.figure(figsize=(10,6))\n",
    "    ax = plt.axes(xlim=(minx-1, maxx+1), ylim=(miny-1, maxy+1))\n",
    "    \n",
    "    \n",
    "    line, = ax.plot([],[], color='green', linewidth = 3, \n",
    "         marker='o', markerfacecolor='blue', markersize=12, label='ey')\n",
    "\n",
    "\n",
    "    anim = FuncAnimation(fig, func=animate, blit=True, init_func=init, frames=len(every_sol), repeat=False, fargs=(every_sol,ax,tours,m),interval=100)\n",
    "    \n",
    "    name = str(tours) + \"tours-\" + str(m) +\"ants\"\n",
    "    anim.save(name + '.mp4', writer=writer)"
   ]
  },
  {
   "cell_type": "markdown",
   "metadata": {},
   "source": [
    "# <center> ACO para TSP (AS) </center>"
   ]
  },
  {
   "cell_type": "code",
   "execution_count": null,
   "metadata": {},
   "outputs": [],
   "source": [
    "import os\n",
    "import csv\n",
    "import numpy as np\n",
    "import math\n",
    "from datetime import datetime\n",
    "import matplotlib.pyplot as plt \n",
    "import matplotlib\n",
    "from matplotlib.animation import FuncAnimation\n",
    "from matplotlib.animation import writers"
   ]
  },
  {
   "cell_type": "markdown",
   "metadata": {},
   "source": [
    "Clase arista (ori,dest) donde ori es el nodo origen y dest el nodo destino"
   ]
  },
  {
   "cell_type": "code",
   "execution_count": null,
   "metadata": {},
   "outputs": [],
   "source": [
    "class Edge:\n",
    "    def __init__ (self, o, d):\n",
    "        self.ori = o\n",
    "        self.dest = d"
   ]
  },
  {
   "cell_type": "markdown",
   "metadata": {},
   "source": [
    "La selección de la arista *edge* es posible si su nodo destino *edge.dest* no ha sido ya introducido en alguna arista contenida en *solution construction*"
   ]
  },
  {
   "cell_type": "code",
   "execution_count": null,
   "metadata": {},
   "outputs": [],
   "source": [
    "def isFeasible(edge, solution_construction): #an edge is feasible if the ant has not chosen the destination node yet\n",
    "    for e in solution_construction:\n",
    "        if e.ori == edge.dest or e.dest == edge.dest:\n",
    "            return False\n",
    "    return True"
   ]
  },
  {
   "cell_type": "markdown",
   "metadata": {},
   "source": [
    "La condición de terminación de la creación de una solución por una hormiga es True cuando la solución creada es del mismo tamaño que el número de ciudades (la hormiga pasa por todas las ciudades)"
   ]
  },
  {
   "cell_type": "code",
   "execution_count": null,
   "metadata": {},
   "outputs": [],
   "source": [
    "def construct_termination(solution_construction, n):\n",
    "    return len(solution_construction) == n - 1"
   ]
  },
  {
   "cell_type": "markdown",
   "metadata": {},
   "source": [
    "La distancia entre dos ciudades se calcula como la distancia entre dos puntos (x1,y2) e (x2,y2)\n",
    "<img src=\"img/distancia.png\" alt=\"Drawing\" style=\"width: 400px;\"/>"
   ]
  },
  {
   "cell_type": "code",
   "execution_count": null,
   "metadata": {},
   "outputs": [],
   "source": [
    "def distance(city1, city2):\n",
    "    x1 = city1[0]\n",
    "    x2 = city1[1]\n",
    "    y1 = city2[0]\n",
    "    y2 = city2[1]\n",
    "    return pow(pow(x2-x1, 2)+pow(y2-y1,2),1/2)"
   ]
  },
  {
   "cell_type": "markdown",
   "metadata": {},
   "source": [
    "La probabilidad se calcula utilizando el sendero de feromonas y la heurística de la distiancia, a través de la fórmula:\n",
    "<img src=\"img/p_aco.png\" alt=\"Drawing\" style=\"width: 500px;\"/>"
   ]
  },
  {
   "cell_type": "code",
   "execution_count": null,
   "metadata": {},
   "outputs": [],
   "source": [
    "def calculate_probability(cities, edge, pheromone_trail, solution_construction):\n",
    "    alpha = 1 # >= 0\n",
    "    beta = 1 # >= 1\n",
    "    eta = 1 / distance(cities[edge.ori], cities[edge.dest])           # Heurística\n",
    "    \n",
    "    numerator = pow(pheromone_trail[edge.ori][edge.dest], alpha) * pow(eta, beta) \n",
    "    \n",
    "    \n",
    "    # denominador = umatorio del valor para cada arista (i, l) factible, siendo l todas los nodos factibles con origen en i\n",
    "    denominator = 0 \n",
    "    for l, city in enumerate(cities): \n",
    "        if edge.ori != l:\n",
    "            if isFeasible(Edge(edge.ori, l), solution_construction):\n",
    "                denominator += pow(pheromone_trail[edge.ori][l], alpha) * pow(1/distance(cities[edge.ori], city),beta)\n",
    "    \n",
    "    return numerator / denominator"
   ]
  },
  {
   "cell_type": "markdown",
   "metadata": {},
   "source": [
    "Una hormiga construye su solución *solution_construction*, que empieza siendo vacía.\n",
    "\n",
    "Partiendo del nodo origen *i = 0*, se recorren todas las ciudades obteniendo la probabilidad de utilizar cada siguiente nodo *j*. Cuando se termina con todas las ciudades factibles desde *i*, se elige una de las aristas aleatoriamente (utilizando la probabilidad).\n",
    "\n",
    "El proceso anterior se repite, partiendo del nodo destino de la nueva arista añadida, hasta que todos los nodos (ciudades) han sido visitados."
   ]
  },
  {
   "cell_type": "code",
   "execution_count": 3,
   "metadata": {},
   "outputs": [],
   "source": [
    "def constructAntSolution(cities, pheromone_trail):\n",
    "    i = 0               # El primer nodo origen es el 0\n",
    "    n = len(cities)\n",
    "    solution_construction = []\n",
    "    while not construct_termination(solution_construction, n):\n",
    "        p = []\n",
    "        a = []\n",
    "        for j, city in enumerate(cities):    # Se recorren todas las ciudades\n",
    "            if i != j:\n",
    "                edge = Edge(i, j)\n",
    "                if isFeasible(edge, solution_construction):         # Si no ha sido ya visitada\n",
    "                    p.append(calculate_probability(cities, edge, pheromone_trail, solution_construction))\n",
    "                else:\n",
    "                    p.append(0)\n",
    "                a.append(j)\n",
    "        \n",
    "        j = np.random.choice(a, 1, p=p)[0]\n",
    "        \n",
    "        solution_construction.append(Edge(i, j))           # Se añade la nueva arista a solution_construction\n",
    "        i = j\n",
    "        \n",
    "    solution_construction.append(Edge(i, 0))               # Se añade la arista final de retorno al nodo 0 para cerrar el ciclo\n",
    "    return solution_construction"
   ]
  },
  {
   "cell_type": "markdown",
   "metadata": {},
   "source": [
    "Se actualiza el sendero de feromonas *pheromone_trail* utilizando la siguiente fórnula:\n",
    "<img src=\"img/ph_aco1.png\" alt=\"Drawing\" style=\"width: 500px;\"/>\n",
    "donde:\n",
    "<img src=\"img/ph_aco2.png\" alt=\"Drawing\" style=\"width: 500px;\"/>"
   ]
  },
  {
   "cell_type": "code",
   "execution_count": 4,
   "metadata": {},
   "outputs": [],
   "source": [
    "def updatePheromone(pheromone_trail, solutions, cities):\n",
    "    evaporation_rate = 0.5 #ⲣ = evaporación de la feromona\n",
    "    Q = 500 #constante\n",
    "    \n",
    "    # Evaporation\n",
    "    for i in range(len(pheromone_trail)):\n",
    "        for j in range(len(pheromone_trail)):\n",
    "            pheromone_trail[i][j] *= (1 - evaporation_rate)\n",
    "    \n",
    "    for ant_solution in solutions:\n",
    "        for edge in ant_solution:\n",
    "            Lk = distance(cities[edge.ori], cities[edge.dest])     # Heurística\n",
    "            ph = Q / Lk                                            # Cantidad de feromona depositada Δt\n",
    "            pheromone_trail[edge.ori][edge.dest] += ph"
   ]
  },
  {
   "cell_type": "markdown",
   "metadata": {},
   "source": [
    "Algoritmo general del ACO:\n",
    "<img src=\"img/aco.png\" alt=\"Drawing\" style=\"width: 300px;\"/>"
   ]
  },
  {
   "cell_type": "code",
   "execution_count": null,
   "metadata": {},
   "outputs": [],
   "source": [
    "def aco(cities, m, n, tours):  \n",
    "    pheromone_trail = []\n",
    "    \n",
    "    # 1.   Ajustado en el método que llama a este método (m, n, tours)\n",
    "    \n",
    "    '''every_sol = []    # Para la animación '''\n",
    "\n",
    "    # 2.   Inicializar sendero de feromonas, todo a 0\n",
    "    for i in range(n):\n",
    "        pheromone_trail.append([0.000000001]*n)\n",
    "    \n",
    "    for t in range(tours):\n",
    "        solutions = []\n",
    "       \n",
    "        # Cada hormiga genera una solución, que se añade a la lista de soluciones del tour actual *solutions*\n",
    "        for ant in range(m):\n",
    "            \n",
    "            # 3.   Construcción de la solución por la hormiga ant\n",
    "            sol = constructAntSolution(cities, pheromone_trail)\n",
    "\n",
    "            solutions.append(sol)\n",
    "            \n",
    "            ''' every_sol.append(sol)         # Para la animación '''\n",
    "\n",
    "\n",
    "        # 4.   Actualización del sendero de feromonas utilizando las soluciones que han generado las m hormigas\n",
    "        updatePheromone(pheromone_trail, solutions, cities)\n",
    "    \n",
    "    ''' Para la animación\n",
    "    x, y = [], []\n",
    "    for c in cities:\n",
    "        x.append(c[0])\n",
    "        y.append(c[1])\n",
    "    minx = min(x)\n",
    "    maxx = max(x)\n",
    "    miny = min(y)\n",
    "    maxy = max(y)'''\n",
    "    \n",
    "    \n",
    "    '''save_animation(tours, m, every_sol, minx, miny, maxx, maxy)'''\n",
    "    \n",
    "    '''return every_sol        # Para la animación'''"
   ]
  },
  {
   "cell_type": "code",
   "execution_count": null,
   "metadata": {
    "scrolled": true
   },
   "outputs": [],
   "source": [
    "path = os.path.join(os.getcwd(), 'dataset', 'tsp', \"instance7.txt\")\n",
    "cities = read_data(path)\n",
    "\n",
    "m = 15 # Número de hormigas\n",
    "n = len(cities) # Número de ciudades\n",
    "\n",
    "tours = 50 # Número de tours\n",
    "iterations = 1\n",
    "\n",
    "\n",
    "for it in range(iterations):\n",
    "    \n",
    "    ants.append(m)\n",
    "    \n",
    "    #start=datetime.now()\n",
    "    \n",
    "    '''every_sol = aco(cities, m, n, tours)    # Para la animación'''\n",
    "    \n",
    "    aco(cities, m, n, tours)\n",
    "    \n",
    "    #time = datetime.now()-start\n",
    "\n",
    "    m+=5"
   ]
  }
 ],
 "metadata": {
  "kernelspec": {
   "display_name": "Python 3",
   "language": "python",
   "name": "python3"
  },
  "language_info": {
   "codemirror_mode": {
    "name": "ipython",
    "version": 3
   },
   "file_extension": ".py",
   "mimetype": "text/x-python",
   "name": "python",
   "nbconvert_exporter": "python",
   "pygments_lexer": "ipython3",
   "version": "3.9.0"
  }
 },
 "nbformat": 4,
 "nbformat_minor": 4
}
