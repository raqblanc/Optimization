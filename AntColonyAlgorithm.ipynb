{
 "cells": [
  {
   "cell_type": "code",
   "execution_count": null,
   "metadata": {},
   "outputs": [],
   "source": [
    "def read_data(path):\n",
    "    cities = []\n",
    "    with open(path, \"r\") as f:\n",
    "        csv.reader(f, delimiter=\" \")\n",
    "        for line in f:\n",
    "            data = line.split(\" \")\n",
    "            data = [float(x.replace(\"\\n\", \"\")) for x in data]\n",
    "            cities.append([data[0],data[1]])\n",
    "    return cities"
   ]
  },
  {
   "cell_type": "code",
   "execution_count": null,
   "metadata": {},
   "outputs": [],
   "source": [
    "def init():\n",
    "    line.set_data([], [])\n",
    "    return line,\n",
    "\n",
    "def animate(i, every_sol,ax,tours,m):\n",
    "    \n",
    "    t = (i*tours)//(tours*m-1) + 1\n",
    "    \n",
    "    ant = i%m + 1\n",
    "    \n",
    "    title = \"Tour: \" + str(t) + \"     Ant: \" + str(ant) \n",
    "    ax.set_title(title, va='top')\n",
    "    sol = every_sol[i]\n",
    "    x = []\n",
    "    y = []\n",
    "    \n",
    "    for edge in sol:\n",
    "        x.append(cities[edge.ori][0])\n",
    "        y.append(cities[edge.ori][1])\n",
    "    \n",
    "    x.append(cities[0][0])\n",
    "    y.append(cities[0][1])\n",
    "    \n",
    "    line.set_data(x, y)\n",
    "    return line,"
   ]
  },
  {
   "cell_type": "code",
   "execution_count": null,
   "metadata": {},
   "outputs": [],
   "source": [
    "def save_animation(tours, m, every_sol, minx, miny, maxx, maxy):\n",
    "    Writer = writers['ffmpeg']\n",
    "    writer = Writer(fps=10, metadata=dict(artist='Me'), bitrate=100)\n",
    "\n",
    "    global line\n",
    "\n",
    "    fig = plt.figure(figsize=(10,6))\n",
    "    ax = plt.axes(xlim=(minx-1, maxx+1), ylim=(miny-1, maxy+1))\n",
    "    \n",
    "    \n",
    "    line, = ax.plot([],[], color='green', linewidth = 3, \n",
    "         marker='o', markerfacecolor='blue', markersize=12, label='ey')\n",
    "\n",
    "\n",
    "    anim = FuncAnimation(fig, func=animate, blit=True, init_func=init, frames=len(every_sol), repeat=False, fargs=(every_sol,ax,tours,m),interval=100)\n",
    "    \n",
    "    name = str(tours) + \"tours-\" + str(m) +\"ants\"\n",
    "    anim.save(name + '.mp4', writer=writer)"
   ]
  },
  {
   "cell_type": "markdown",
   "metadata": {},
   "source": [
    "# <center> ACO para TSP (AS) </center>"
   ]
  },
  {
   "cell_type": "code",
   "execution_count": null,
   "metadata": {},
   "outputs": [],
   "source": [
    "import os\n",
    "import csv\n",
    "import numpy as np\n",
    "import math\n",
    "from datetime import datetime\n",
    "import matplotlib.pyplot as plt \n",
    "import matplotlib\n",
    "from matplotlib.animation import FuncAnimation\n",
    "from matplotlib.animation import writers"
   ]
  },
  {
   "cell_type": "code",
   "execution_count": null,
   "metadata": {},
   "outputs": [],
   "source": [
    "class Edge:\n",
    "    def __init__ (self, o, d):\n",
    "        self.ori = o\n",
    "        self.dest = d"
   ]
  },
  {
   "cell_type": "code",
   "execution_count": null,
   "metadata": {},
   "outputs": [],
   "source": [
    "def isFeasible(edge, solution_construction): #an edge is feasible if the ant has not chosen the destination node yet\n",
    "    for e in solution_construction:\n",
    "        if e.ori == edge.dest or e.dest == edge.dest:\n",
    "            return False\n",
    "    return True"
   ]
  },
  {
   "cell_type": "code",
   "execution_count": null,
   "metadata": {},
   "outputs": [],
   "source": [
    "def construct_termination(solution_construction, n):\n",
    "    return len(solution_construction) == n - 1"
   ]
  },
  {
   "cell_type": "code",
   "execution_count": null,
   "metadata": {},
   "outputs": [],
   "source": [
    "def distance(city1, city2):\n",
    "    x1 = city1[0]\n",
    "    x2 = city1[1]\n",
    "    y1 = city2[0]\n",
    "    y2 = city2[1]\n",
    "    return pow(pow(x2-x1, 2)+pow(y2-y1,2),1/2)"
   ]
  },
  {
   "cell_type": "code",
   "execution_count": null,
   "metadata": {},
   "outputs": [],
   "source": [
    "def calculate_probability(cities, edge, pheromone_trail, solution_construction):\n",
    "    alpha = 1 # >= 0\n",
    "    beta = 1 # >= 1\n",
    "    eta = 1 / distance(cities[edge.ori], cities[edge.dest])\n",
    "    numerator = pow(pheromone_trail[edge.ori][edge.dest], alpha) * pow(eta, beta)\n",
    "    \n",
    "    denominator = 0\n",
    "    for l, city in enumerate(cities):\n",
    "        if edge.ori != l:\n",
    "            if isFeasible(Edge(edge.ori, l), solution_construction):\n",
    "                denominator += pow(pheromone_trail[edge.ori][l], alpha) * pow(1/distance(cities[edge.ori], city),beta)\n",
    "    \n",
    "    return numerator / denominator"
   ]
  },
  {
   "cell_type": "code",
   "execution_count": null,
   "metadata": {},
   "outputs": [],
   "source": [
    "def constructAntSolution(cities, pheromone_trail):\n",
    "    i = 0\n",
    "    n = len(cities)\n",
    "    solution_construction = []\n",
    "    while not construct_termination(solution_construction, n):\n",
    "        p = []\n",
    "        a = []\n",
    "        for j, city in enumerate(cities):\n",
    "            if i != j:\n",
    "                edge = Edge(i, j)\n",
    "                if isFeasible(edge, solution_construction):\n",
    "                    p.append(calculate_probability(cities, edge, pheromone_trail, solution_construction))\n",
    "                else:\n",
    "                    p.append(0)\n",
    "                a.append(j)\n",
    "        \n",
    "        j = np.random.choice(a, 1, p=p)[0]\n",
    "        \n",
    "        solution_construction.append(Edge(i, j))\n",
    "        i = j\n",
    "    solution_construction.append(Edge(i, 0))\n",
    "    return solution_construction"
   ]
  },
  {
   "cell_type": "code",
   "execution_count": null,
   "metadata": {},
   "outputs": [],
   "source": [
    "def updatePheromone(pheromone_trail, solutions, cities):\n",
    "    evaporation_rate = 0.5\n",
    "    Q = 500\n",
    "    \n",
    "    # Evaporation\n",
    "    for i in range(len(pheromone_trail)):\n",
    "        for j in range(len(pheromone_trail)):\n",
    "            pheromone_trail[i][j] *= (1 - evaporation_rate)\n",
    "    \n",
    "    for ant_solution in solutions:\n",
    "        for edge in ant_solution:\n",
    "            pheromone_trail[edge.ori][edge.dest] += Q / distance(cities[edge.ori], cities[edge.dest])"
   ]
  },
  {
   "cell_type": "code",
   "execution_count": null,
   "metadata": {},
   "outputs": [],
   "source": [
    "def aco(cities, m, n, tours):  \n",
    "    pheromone_trail = []\n",
    "\n",
    "    every_sol = []\n",
    "\n",
    "    # Initialize trail\n",
    "    for i in range(n):\n",
    "        pheromone_trail.append([0.000000001]*n)\n",
    "\n",
    "    for t in range(tours):\n",
    "        solutions = []\n",
    "       \n",
    "        # For each ant, construct a solution\n",
    "        for ant in range(m):\n",
    "            \n",
    "            sol = constructAntSolution(cities, pheromone_trail)\n",
    "\n",
    "            solutions.append(sol)\n",
    "            every_sol.append(sol)\n",
    "            \n",
    "            #plot_solution(sol, str(ant+1), str(t+1),cities)\n",
    "            #s = solution_string(sol)\n",
    "            #print(\"Solution:\", s)\n",
    "\n",
    "        # Update pheromone trail\n",
    "        updatePheromone(pheromone_trail, solutions, cities)\n",
    "    \n",
    "    x, y = [], []\n",
    "    for c in cities:\n",
    "        x.append(c[0])\n",
    "        y.append(c[1])\n",
    "    minx = min(x)\n",
    "    maxx = max(x)\n",
    "    miny = min(y)\n",
    "    maxy = max(y)\n",
    "    \n",
    "    \n",
    "    save_animation(tours, m, every_sol, minx, miny, maxx, maxy)\n",
    "    \n",
    "    return every_sol"
   ]
  },
  {
   "cell_type": "code",
   "execution_count": null,
   "metadata": {
    "scrolled": true
   },
   "outputs": [],
   "source": [
    "path = os.path.join(os.getcwd(), 'dataset', 'tsp', \"instance7.txt\")\n",
    "cities = read_data(path)\n",
    "\n",
    "m = 3 # number of ants\n",
    "n = len(cities) # number of cities\n",
    "tours = 3 # number of tours\n",
    "iterations = 1\n",
    "ants = []\n",
    "\n",
    "times = []\n",
    "\n",
    "costs = []\n",
    "paths = []\n",
    "\n",
    "\n",
    "\n",
    "for it in range(iterations):\n",
    "    \n",
    "    ants.append(m)\n",
    "    \n",
    "    #start=datetime.now()\n",
    "    \n",
    "    every_sol = aco(cities, m, n, tours)\n",
    "    \n",
    "    #time = datetime.now()-start\n",
    "\n",
    "    m+=5"
   ]
  }
 ],
 "metadata": {
  "kernelspec": {
   "display_name": "Python 3",
   "language": "python",
   "name": "python3"
  },
  "language_info": {
   "codemirror_mode": {
    "name": "ipython",
    "version": 3
   },
   "file_extension": ".py",
   "mimetype": "text/x-python",
   "name": "python",
   "nbconvert_exporter": "python",
   "pygments_lexer": "ipython3",
   "version": "3.9.1"
  }
 },
 "nbformat": 4,
 "nbformat_minor": 4
}
