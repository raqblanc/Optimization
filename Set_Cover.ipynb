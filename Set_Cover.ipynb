{
 "cells": [
  {
   "cell_type": "code",
   "execution_count": null,
   "metadata": {
    "id": "ZAu5Wm7kiAkS"
   },
   "outputs": [],
   "source": [
    "import csv\n",
    "import numpy as np\n",
    "import pandas as pd\n",
    "from numpy import inf\n",
    "import math\n",
    "import time\n",
    "import os\n",
    "def read_data(path):\n",
    "    S = []\n",
    "    costs = []\n",
    "    first = True\n",
    "    with open(path, \"r\") as f:\n",
    "        csv.reader(f, delimiter=\" \")\n",
    "        \n",
    "        for line in f:\n",
    "            info = line.split(\" \")\n",
    "            if first:\n",
    "                first = False\n",
    "                n_sets = info[0]\n",
    "                n_elems = info[1]\n",
    "            else:\n",
    "                s = set()\n",
    "                costs.append(int(info[0]))\n",
    "                info.pop(0)\n",
    "                for e in info:\n",
    "                  e.replace(\"\\n\", \"\")\n",
    "                  s.add(int(e))\n",
    "                S.append(s)\n",
    "    return int(n_elems), int(n_sets), S, costs"
   ]
  },
  {
   "cell_type": "markdown",
   "metadata": {
    "id": "eNMHwljN3T5p"
   },
   "source": [
    "# **Greedy Algorithm**\n",
    "https://doc.lagout.org/science/0_Computer%20Science/2_Algorithms/Approximation%20Algorithms%20%5BVazirani%202010-12-01%5D.pdf#page=31"
   ]
  },
  {
   "cell_type": "code",
   "execution_count": null,
   "metadata": {
    "id": "Cta3nV4P9sDi"
   },
   "outputs": [],
   "source": [
    "#smallest cost-effectiveness, c(S)/|S-C|\n",
    "def select_best_set(U, uncovered_sets, current_covered, costs):\n",
    "    c_e = []\n",
    "    real_costs = []\n",
    "    for S in uncovered_sets:\n",
    "      s = S - current_covered #los que metería\n",
    "      cost_e = math.inf #si no meto ninguno, coste infinito para que no lo coja\n",
    "      if len(s) > 0:\n",
    "        cost_e = costs[U.index(S)] / len(s) #cost-effectiveness\n",
    "      \n",
    "      real_costs.append(costs[U.index(S)])\n",
    "      c_e.append(cost_e)\n",
    "\n",
    "    return real_costs[c_e.index(min(c_e))], c_e.index(min(c_e))\n",
    "    \n",
    "      \n",
    "def greedy_set_cover(U,costs):\n",
    "    uncovered_items = set.union(*U)\n",
    "    cover_sets = []\n",
    "    uncovered_sets = U.copy()\n",
    "    total_cost = 0\n",
    "    offset = 0\n",
    "    while not len(uncovered_items) == 0:\n",
    "        current_covered = set()\n",
    "        if len(cover_sets) > 0:\n",
    "            current_covered = set.union(*cover_sets)\n",
    "        cost, i_selected_set = select_best_set(U, uncovered_sets, current_covered, costs)\n",
    "        total_cost += cost\n",
    "        cover_sets.append(uncovered_sets[i_selected_set])\n",
    "        uncovered_items -= uncovered_sets[i_selected_set]\n",
    "        del uncovered_sets[i_selected_set]\n",
    "    \n",
    "    return cover_sets, total_cost"
   ]
  },
  {
   "cell_type": "markdown",
   "metadata": {
    "id": "SNpLmMjB3YZ5"
   },
   "source": [
    "# **Main**"
   ]
  },
  {
   "cell_type": "code",
   "execution_count": null,
   "metadata": {
    "colab": {
     "base_uri": "https://localhost:8080/"
    },
    "id": "wE6j5WWCkw7Z",
    "outputId": "2adfa721-2c91-4f40-900b-46e856180fb1"
   },
   "outputs": [],
   "source": [
    "path = os.path.join(os.getcwd(), 'dataset', \"set_cover_100.txt\")\n",
    "maxim, n_sets, U, costs= read_data(path)\n",
    "print(\"Initial sets: \" + str(U))\n",
    "\n",
    "cover_sets, total_cost = greedy_set_cover(U, costs)\n",
    "\n",
    "\n",
    "print(\"Cover set: \" + str(cover_sets))\n",
    "print(\"Total cost: \" + str(total_cost)) "
   ]
  }
 ],
 "metadata": {
  "colab": {
   "collapsed_sections": [],
   "name": "Set_Cover.ipynb",
   "provenance": []
  },
  "kernelspec": {
   "display_name": "Python 3",
   "language": "python",
   "name": "python3"
  },
  "language_info": {
   "codemirror_mode": {
    "name": "ipython",
    "version": 3
   },
   "file_extension": ".py",
   "mimetype": "text/x-python",
   "name": "python",
   "nbconvert_exporter": "python",
   "pygments_lexer": "ipython3",
   "version": "3.9.1"
  }
 },
 "nbformat": 4,
 "nbformat_minor": 1
}
