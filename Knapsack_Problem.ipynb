{
  "nbformat": 4,
  "nbformat_minor": 0,
  "metadata": {
    "colab": {
      "name": "Knapsack_Problem.ipynb",
      "provenance": [],
      "collapsed_sections": []
    },
    "kernelspec": {
      "display_name": "Python 3",
      "language": "python",
      "name": "python3"
    },
    "language_info": {
      "codemirror_mode": {
        "name": "ipython",
        "version": 3
      },
      "file_extension": ".py",
      "mimetype": "text/x-python",
      "name": "python",
      "nbconvert_exporter": "python",
      "pygments_lexer": "ipython3",
      "version": "3.7.4"
    }
  },
  "cells": [
    {
      "cell_type": "code",
      "metadata": {
        "id": "e63q2WaqvI4A"
      },
      "source": [
        "import csv\n",
        "import numpy as np\n",
        "import pandas as pd\n",
        "from numpy import inf\n",
        "import math\n",
        "import time\n",
        "\n",
        "def read_data(path):\n",
        "    first = True\n",
        "    n_objects = 0\n",
        "    max_weight = 0\n",
        "    weights = []\n",
        "    values = []\n",
        "    with open(path, \"r\") as f:\n",
        "        csv.reader(f, delimiter=\" \")\n",
        "        \n",
        "        for line in f:\n",
        "            info = line.split(\" \")\n",
        "            if first:\n",
        "                first = False\n",
        "                n_objects = info[0]\n",
        "                max_weight = info[1].replace('\\n', '')\n",
        "            else:\n",
        "                values.append(int(info[0]))\n",
        "                weights.append(int(info[1].replace('\\n', '')))\n",
        "                \n",
        "    return int(n_objects), int(max_weight), weights, values"
      ],
      "execution_count": null,
      "outputs": []
    },
    {
      "cell_type": "markdown",
      "metadata": {
        "id": "b4148fgSvAo0"
      },
      "source": [
        "# **Knapsack Problem**"
      ]
    },
    {
      "cell_type": "code",
      "metadata": {
        "id": "HG6CKXezvX2S"
      },
      "source": [
        "class KnapsackSolution:\n",
        "  def __init__(self, sol, total_w, total_v):\n",
        "    self._obj = sol\n",
        "    self._total_w = total_w\n",
        "    self._total_v = total_v\n",
        "\n",
        "class KnapsackProblem:\n",
        "  def __init__(self, weights, values, n_obj, max_w):\n",
        "    self.objects = Objects(weights, values)\n",
        "    self.max_w = max_w\n",
        "    self.n_obj = n_obj\n",
        "\n",
        "class Objects:\n",
        "  def __init__(self, weights, values):\n",
        "    self._weights = weights\n",
        "    self._values = values\n",
        "\n",
        "  @property\n",
        "  def weights(self):\n",
        "      return self._weights\n",
        "  \n",
        "  @property\n",
        "  def values(self):\n",
        "      return self._values"
      ],
      "execution_count": null,
      "outputs": []
    },
    {
      "cell_type": "markdown",
      "metadata": {
        "id": "lgTQtyKSQlXD"
      },
      "source": [
        "# **Greedy Algorithm**"
      ]
    },
    {
      "cell_type": "code",
      "metadata": {
        "id": "-ULD_H3gQraf"
      },
      "source": [
        "class GreedyAlgorithm_KNAP:\n",
        "  def __init__(self, knap, name):\n",
        "    self._knap = knap\n",
        "    self._sol = None\n",
        "    self._name = name\n",
        "\n",
        "  def calculate_sorted_density(self):\n",
        "    density = []\n",
        "    for i in range(0, self._knap.n_obj):\n",
        "        density.append(self._knap.objects.values[i]/self._knap.objects.weights[i])\n",
        "\n",
        "    d = np.array(density)\n",
        "    indices_sorted = np.argsort(-d)\n",
        "    density_sorted = -np.sort(d)\n",
        "\n",
        "    return d, indices_sorted\n",
        "  \n",
        "  def calculate_sol(self):\n",
        "    density, indices_sorted = self.calculate_sorted_density()\n",
        "    \n",
        "    curr_weight = 0\n",
        "    curr_value = 0\n",
        "\n",
        "    sol = [False] * self._knap.n_obj\n",
        "    for i in indices_sorted:\n",
        "        if (curr_weight + self._knap.objects.weights[i] <= int(self._knap.max_w)): #the object fits\n",
        "            curr_weight += self._knap.objects.weights[i]\n",
        "            curr_value += self._knap.objects.values[i]\n",
        "            sol[i] = True\n",
        "\n",
        " \n",
        "    self._sol = KnapsackSolution(sol, curr_weight, curr_value)\n",
        "    \n",
        "  def print_sol(self):\n",
        "    print(\"***************************** \" + self._name )\n",
        "    print(\"Total value: \" + str(self._sol._total_v))\n",
        "    print(\"Total weight: \" + str(self._sol._total_w))\n",
        "    print(\"Objects: \" + str(self._sol._obj))"
      ],
      "execution_count": null,
      "outputs": []
    },
    {
      "cell_type": "markdown",
      "metadata": {
        "id": "gPUKPu9Jyu4g"
      },
      "source": [
        "# **Dynamic Programming (value)**"
      ]
    },
    {
      "cell_type": "code",
      "metadata": {
        "id": "wDgw-awry2Ob"
      },
      "source": [
        "class DynamicProg_KNAP:\n",
        "  def __init__(self, knap, name, fptas, epsilon):\n",
        "    self._knap = knap\n",
        "    self._sol = None\n",
        "    self._name = name\n",
        "    self._fptas = fptas\n",
        "    self._epsilon = epsilon\n",
        "  \n",
        "  def calculate_sol(self):\n",
        "    if self._fptas:\n",
        "      v = self.calculte_fptas_instance(epsilon, values, n_obj, max_w)\n",
        "    \n",
        "    w = self._knap.objects._weights\n",
        "    v = self._knap.objects._values\n",
        "\n",
        "    n_cols = sum(v)\n",
        "    n_rows = len(v)\n",
        "\n",
        "    first_row = []\n",
        "\n",
        "    v.insert(0, 0) \n",
        "    w.insert(0, 0)\n",
        "\n",
        "    for p in range(0, n_cols):\n",
        "      if p == v[0]:\n",
        "        first_row.append(w[0])\n",
        "      else:\n",
        "        first_row.append(np.inf)\n",
        "\n",
        "    A = []\n",
        "    A.append(first_row)\n",
        "\n",
        "    for i in range(0, n_rows):\n",
        "      new_row = []\n",
        "      for p in range(0, n_cols):\n",
        "        if v[i + 1] <= p:\n",
        "          new_row.append(min(w[i + 1] + A[i][p - v[i + 1]], A[i][p]))\n",
        "        else:\n",
        "          new_row.append(A[i][p])\n",
        "      A.append(new_row)\n",
        "\n",
        "    last_row = A[n_rows]\n",
        "\n",
        "    last_row = [x if x <= self._knap.max_w else inf for x in last_row]\n",
        "\n",
        "    r_value = 0\n",
        "    for i in reversed(last_row):\n",
        "      if i != inf:\n",
        "        weight = i\n",
        "        break\n",
        "      r_value += 1\n",
        "\n",
        "    value = n_cols - r_value - 1\n",
        " \n",
        "\n",
        "    sol = []\n",
        "\n",
        "    p = weight\n",
        "    col = value\n",
        "    for i in range(n_rows, 0, -1):\n",
        "      if p - w[i] == A[i - 1][col - v[i]]:\n",
        "        sol.append(i - 1)\n",
        "        p -= w[i]\n",
        "        col -= v[i]\n",
        "\n",
        "    sol_f = [True if x in sol else False for x in range(0, n_rows)]\n",
        "    \n",
        "    \n",
        "    if self._fptas:\n",
        "      value, weight = self.calculate_fptas_sol(n_obj, values, weights)\n",
        "\n",
        "    self._sol = KnapsackSolution(sol_f, weight, value)\n",
        "    \n",
        "  def print_sol(self):\n",
        "    \n",
        "    print(\"***************************** \" + self._name )\n",
        "    print(\"Total value: \" + str(self._sol._total_v))\n",
        "    print(\"Total weight: \" + str(self._sol._total_w))\n",
        "    print(\"Objects: \" + str(self._sol._obj))\n",
        " \n",
        "\n",
        "  def calculte_fptas_instance(self, epsilon, values, n_obj, max_w):\n",
        "    P = max(values)\n",
        "    K = epsilon*P/n_obj\n",
        "\n",
        "    v_p = []\n",
        "    for i in range(0, n_obj):\n",
        "      v_p.append(math.floor(values[i]/K))\n",
        "\n",
        "    knap_fptas = KnapsackProblem(weights.copy(), v_p, n_obj, max_w)\n",
        "\n",
        "  def calculate_fptas_sol(self, n_obj, values, weights):\n",
        "    total_value = 0\n",
        "    total_weight = 0\n",
        "    for i in range(0, n_obj):\n",
        "      if sol[i]:\n",
        "        total_value += values[i]\n",
        "        total_weight += weights[i]\n",
        "\n",
        "    return total_value, total_weight\n"
      ],
      "execution_count": null,
      "outputs": []
    },
    {
      "cell_type": "markdown",
      "metadata": {
        "id": "URK1u1nf-Lo8"
      },
      "source": [
        "# **Main**"
      ]
    },
    {
      "cell_type": "code",
      "metadata": {
        "id": "NSROko6UlinE"
      },
      "source": [
        "n_obj, max_w, weights, values = read_data(\"...\")\n",
        "\n",
        "knap = KnapsackProblem(weights.copy(), values.copy(), n_obj, max_w)"
      ],
      "execution_count": null,
      "outputs": []
    },
    {
      "cell_type": "markdown",
      "metadata": {
        "id": "2-iGvurrle-6"
      },
      "source": [
        "## Greedy Algorithm"
      ]
    },
    {
      "cell_type": "code",
      "metadata": {
        "id": "mn4hKtiPcpvZ",
        "outputId": "b712d7c5-ef75-4f9f-ed88-f41b0f19a08a",
        "colab": {
          "base_uri": "https://localhost:8080/"
        }
      },
      "source": [
        "\n",
        "greedy = GreedyAlgorithm_KNAP(knap, \"Greedy Algorithm\")\n",
        "\n",
        "start_time = time.time()\n",
        "greedy.calculate_sol()\n",
        "end_time = time.time()\n",
        "\n",
        "greedy.print_sol()\n",
        "\n",
        "print(\"Time: \" + str(end_time - start_time)+ \"\\n\")\n",
        "\n"
      ],
      "execution_count": null,
      "outputs": [
        {
          "output_type": "stream",
          "text": [
            "***************************** Greedy Algorithm\n",
            "Total value: 106\n",
            "Total weight: 8\n",
            "Objects: [False, False, False, False, False, False, False, False, False, False, False, True, True, False, False, False, False, False, False, False, False, False, False, False, False, False, False, False, False, False, False, False, False, False, False, False, False, False, False, False, False, False, False, False, False, False, False, False, False, False, False, True, False, False, False, False, False, False, False, False, False, False, False, False, False, False, False, False, False, False, True, False, False, False, False, False, False, False, False, False, False, False, False, False, False, False, False, False, False, False, False, False, False, False, False, False, False, False, False, False]\n",
            "Time: 0.0014193058013916016\n",
            "\n",
            "***************************** Dynamic programming\n",
            "Total value: 113\n",
            "Total weight: 9\n",
            "Objects: [False, False, False, False, False, False, False, False, False, False, False, False, False, False, False, False, False, False, False, False, False, False, False, False, False, False, False, False, False, False, False, False, False, False, False, False, False, False, False, False, False, False, False, False, False, False, False, False, False, False, False, True, False, False, False, False, False, False, False, False, False, False, False, False, False, False, False, False, False, False, True, False, False, False, False, False, False, False, False, False, False, False, False, False, False, False, False, False, False, False, False, False, False, False, False, False, False, True, False, False]\n",
            "Time: 0.12056994438171387\n",
            "\n",
            "***************************** FPTAS\n",
            "Total value: 113\n",
            "Total weight: 9\n",
            "Objects: [True, True, True, True, True, True, True, True, False, False, False, False, False, False, False, False, False, False, False, False, False, False, False, False, False, False, False, False, False, False, False, False, False, False, False, False, False, False, False, False, False, False, False, False, False, False, False, False, False, False, False, False, False, False, False, False, False, False, False, True, False, False, False, False, False, False, False, False, False, False, False, False, False, False, False, False, False, False, True, False, False, False, False, False, False, False, False, False, False, False, False, False, False, False, False, False, False, False, False, False, False, False, False, False, False, True, False, False]\n"
          ],
          "name": "stdout"
        }
      ]
    },
    {
      "cell_type": "markdown",
      "metadata": {
        "id": "AXQp-3XPlmya"
      },
      "source": [
        "## Dynamic programming"
      ]
    },
    {
      "cell_type": "code",
      "metadata": {
        "id": "azkThgYbln5c"
      },
      "source": [
        "dynamic = DynamicProg_KNAP(knap, \"Dynamic programming\", False, None)\n",
        "\n",
        "start_time = time.time()\n",
        "dynamic.calculate_sol()\n",
        "end_time = time.time()\n",
        "\n",
        "dynamic.print_sol()\n",
        "\n",
        "print(\"Time: \" + str(end_time - start_time) + \"\\n\")"
      ],
      "execution_count": null,
      "outputs": []
    },
    {
      "cell_type": "markdown",
      "metadata": {
        "id": "En6zhY44lxLn"
      },
      "source": [
        "## Approximation algorithm (FPTAS)\n",
        "https://doc.lagout.org/science/0_Computer%20Science/2_Algorithms/Approximation%20Algorithms%20%5BVazirani%202010-12-01%5D.pdf"
      ]
    },
    {
      "cell_type": "code",
      "metadata": {
        "id": "iTANIcLFlNS6"
      },
      "source": [
        "epsilon = 2\n",
        "\n",
        "dynamic_fptas = DynamicProg_KNAP(knap_fptas, \"FPTAS\", True, epsilon)\n",
        "\n",
        "start_time = time.time()\n",
        "dynamic_fptas.calculate_sol()\n",
        "end_time = time.time()\n",
        "\n",
        "dynamic_fptas.print_sol()"
      ],
      "execution_count": null,
      "outputs": []
    }
  ]
}
