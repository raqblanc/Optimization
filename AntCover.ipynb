{
 "cells": [
  {
   "cell_type": "code",
   "execution_count": 1,
   "metadata": {},
   "outputs": [],
   "source": [
    "import os\n",
    "import csv\n",
    "import numpy as np\n",
    "import math\n",
    "from datetime import datetime\n",
    "import matplotlib.pyplot as plt \n",
    "import matplotlib\n",
    "from matplotlib.animation import FuncAnimation\n",
    "from matplotlib.animation import writers"
   ]
  },
  {
   "cell_type": "code",
   "execution_count": 2,
   "metadata": {},
   "outputs": [],
   "source": [
    "def read_data(path):\n",
    "    S = []\n",
    "    costs = []\n",
    "    first = True\n",
    "    with open(path, \"r\") as f:\n",
    "        csv.reader(f, delimiter=\" \")\n",
    "        \n",
    "        for line in f:\n",
    "            info = line.split(\" \")\n",
    "            if first:\n",
    "                first = False\n",
    "                n_sets = info[0]\n",
    "                n_elems = info[1]\n",
    "            else:\n",
    "                s = set()\n",
    "                costs.append(int(info[0]))\n",
    "                info.pop(0)\n",
    "                for e in info:\n",
    "                    e.replace(\"\\n\", \"\")\n",
    "                    s.add(int(e))\n",
    "                S.append(s)\n",
    "    return int(n_elems), int(n_sets), S, costs"
   ]
  },
  {
   "cell_type": "code",
   "execution_count": 3,
   "metadata": {},
   "outputs": [],
   "source": [
    "def s_to_matrix(n_elems, n_sets, S):\n",
    "    \n",
    "    # Inicializar matriz todo ceros\n",
    "    matrix = np.zeros((n_sets, n_elems))\n",
    "    \n",
    "    # Los elementos van de 1 a n_elems\n",
    "    \n",
    "    col = 0\n",
    "    for s in S:\n",
    "        for e in s:\n",
    "            matrix[e - 1][col] = 1\n",
    "        col += 1\n",
    "        \n",
    "    return matrix\n",
    "        "
   ]
  },
  {
   "cell_type": "markdown",
   "metadata": {},
   "source": [
    "# <center> ACO for Set Cover (Ant Cover)</center>"
   ]
  },
  {
   "cell_type": "code",
   "execution_count": 4,
   "metadata": {},
   "outputs": [],
   "source": [
    "# Terminación: cuando todos los elementos están cubiertos\n",
    "def construct_termination(n_elems, n_currently_covered):\n",
    "    return n_elems == n_currently_covered"
   ]
  },
  {
   "cell_type": "code",
   "execution_count": 5,
   "metadata": {},
   "outputs": [],
   "source": [
    "# Coger un conjunto j es factible si cubre el elemento i e i no está ya cubierto\n",
    "def isFeasible(j, i, matrix, currently_uncovered):\n",
    "    return (matrix[i][j] == 1) and (i in currently_uncovered)"
   ]
  },
  {
   "cell_type": "code",
   "execution_count": 6,
   "metadata": {},
   "outputs": [],
   "source": [
    "# Calcula cuántos elementos nuevos cubre un conjunto\n",
    "def calculate_n_new_covered(n_elems, matrix, j, currently_uncovered):\n",
    "    n_new_covered = 0\n",
    "    for i in range(n_elems):\n",
    "        # Si el conjunto j cubre el elemento i, y el elemento i no está ya cubierto, se suma uno\n",
    "        if (matrix[i][j] == 1) and (i in currently_uncovered):\n",
    "            n_new_covered += 1\n",
    "    return n_new_covered"
   ]
  },
  {
   "cell_type": "code",
   "execution_count": 7,
   "metadata": {},
   "outputs": [],
   "source": [
    "def calculate_probability(i, j, costs, pheromone_trail, matrix, n_elems, n_sets, currently_uncovered):\n",
    "    # psi_j = número de nuevos elementos que puede cubrir el conjunto j\n",
    "    psi_j = calculate_n_new_covered(n_elems, matrix, j, currently_uncovered)\n",
    "    \n",
    "    # eta = heurística\n",
    "    eta = psi_j / costs[j]\n",
    "    \n",
    "    # Importancia relativa de la heurística con respecto a la feromona\n",
    "    beta = 0.5 # >= 0\n",
    "    \n",
    "    numerator = pheromone_trail[j] * pow(eta, beta)\n",
    "    \n",
    "    denominator = 0\n",
    "    \n",
    "    # Para cada conjunto q que cubre el elemento i\n",
    "    for q in range(n_sets):\n",
    "\n",
    "        if isFeasible(i, j, matrix, currently_uncovered):\n",
    "            psi_q = calculate_n_new_covered(n_elems, matrix, q, currently_uncovered)\n",
    "            denominator += pheromone_trail[j] * (psi_q / costs[q])\n",
    "    \n",
    "    return numerator / denominator"
   ]
  },
  {
   "cell_type": "code",
   "execution_count": 8,
   "metadata": {},
   "outputs": [],
   "source": [
    "def updateBestSolution(sol, best_cost, best_solution, evaporation_rate, costs, epsilon):\n",
    "    # Actualizar nueva mejor solución\n",
    "    total_cost = 0\n",
    "    for j in sol:\n",
    "        total_cost += costs[j]\n",
    "    \n",
    "    if total_cost < best_cost:\n",
    "        best_cost = total_cost\n",
    "        best_solution = sol\n",
    "    \n",
    "        # Actualizar phmin y phmax\n",
    "        phmax = 1 / ((1 - evaporation_rate) * best_cost)\n",
    "        phmin = epsilon*phmax\n",
    "        \n",
    "    return best_solution, phmax, phmin"
   ]
  },
  {
   "cell_type": "code",
   "execution_count": 9,
   "metadata": {},
   "outputs": [],
   "source": [
    "# Devuelve los elementos que cubre el conjunto s\n",
    "def covered_by(s, n_elems, matrix):\n",
    "    elems = []\n",
    "    for elem in range(n_elems):\n",
    "        if matrix[elem][s] == 1:\n",
    "            elems.append(elem)\n",
    "    return elems"
   ]
  },
  {
   "cell_type": "code",
   "execution_count": 10,
   "metadata": {},
   "outputs": [],
   "source": [
    "# Una hormiga construye una solución\n",
    "# Empieza con una solución vacía solution_construction\n",
    "# Se añaden conjuntos iterativamente a solution_construction hasta que todos los elementos están cubiertos\n",
    "# Se elige un elemento que debe ser cubierto (orden: aleatorio, natural o ascendiente por coste)\n",
    "# Se elige el conjunto que lo cubre basándose en una función de probabilidad (feromonas)\n",
    "def constructAntSolution(matrix, n_sets, n_elems, pheromone_trail):\n",
    "    solution_construction = []\n",
    "    currently_covered = []\n",
    "    currently_uncovered = range(n_elems)\n",
    "    \n",
    "    while not construct_termination(n_elems, len(currently_covered)):\n",
    "        p = []\n",
    "        a = []\n",
    "        for i in range(n_elems): # Elegir un elemento a cubrir\n",
    "            for j in range(n_sets): # Elegir un conjunto que lo cubra\n",
    "                if isFeasible(i, j, matrix, currently_uncovered):\n",
    "                    # Calcular la probabilidad de elegir el conjunto j\n",
    "                    p.append(calculate_probability(i, j, costs, pheromone_trail, matrix, n_elems, n_sets, currently_uncovered))\n",
    "                    a.append(j)\n",
    "        \n",
    "        chosen_set = np.random.choice(a, 1, p=p)[0]\n",
    "        \n",
    "        # Actualizar elementos cubiertos y no cubiertos\n",
    "        for elem in covered_by(chosen_set):   \n",
    "            currently_covered.append(elem)\n",
    "            currently_uncovered.remove(elem)\n",
    "        \n",
    "        # Añadir el conjunto seleccionado a la solución\n",
    "        solution_construction.append(chosen_set)\n",
    "\n",
    "    return solution_construction"
   ]
  },
  {
   "cell_type": "code",
   "execution_count": 11,
   "metadata": {},
   "outputs": [],
   "source": [
    "def updateBestSolution(sol, best_cost, best_solution, evaporation_rate, costs, epsilon):\n",
    "    # Actualizar nueva mejor solución\n",
    "    total_cost = 0\n",
    "    for j in sol:\n",
    "        total_cost += costs[j]\n",
    "    \n",
    "    if total_cost < best_cost:\n",
    "        best_cost = total_cost\n",
    "        best_solution = sol\n",
    "    \n",
    "        # Actualizar phmin y phmax\n",
    "        phmax = 1 / ((1 - evaporation_rate) * best_cost)\n",
    "        phmin = epsilon*phmax\n",
    "        \n",
    "    return best_solution, phmax, phmin"
   ]
  },
  {
   "cell_type": "code",
   "execution_count": 12,
   "metadata": {},
   "outputs": [],
   "source": [
    "def updatePheromone(pheromone_trail, n_sets, best_solution, costs, phmax, phmin, evaporation_rate):\n",
    "    \n",
    "    # Evaporation\n",
    "    for j in range(n_sets):\n",
    "        pheromone_trail[j] *= (1 - evaporation_rate)\n",
    "    \n",
    "    # Para cada conjunto de la mejor solución, se le suma el valor de la feromona (limitado por phmax y phmin)\n",
    "    for q in best_solution:\n",
    "        phq = pheromone_trail[q] + (1 / costs[q])\n",
    "        if phq > phmax:\n",
    "            pheromone_trail[q] = phmax\n",
    "        elif phq < phmin:\n",
    "            pheromone_trail[q] = phmin\n",
    "        else:\n",
    "            pheromone_trail[q] = phq"
   ]
  },
  {
   "cell_type": "code",
   "execution_count": 13,
   "metadata": {},
   "outputs": [],
   "source": [
    "def aco(matrix, m, n_elems, n_sets, tours, costs):  \n",
    "    pheromone_trail = []\n",
    "    \n",
    "    best_solution = []\n",
    "    best_cost = math.inf\n",
    "\n",
    "    epsilon = 0.2 # 0 < epsilon < 1 coeficiente de relación\n",
    "    phmax = math.inf\n",
    "    phmin = math.inf\n",
    "    \n",
    "    evaporation_rate = 0.3\n",
    "    \n",
    "    # Initialize trail\n",
    "    pheromone_trail = [0.000000001]*n_sets\n",
    "\n",
    "    for t in range(tours):\n",
    "        solutions = []\n",
    "       \n",
    "        # Cada hormiga construye una solución, que se guarda en solutions\n",
    "        for ant in range(m):\n",
    "            \n",
    "            sol = constructAntSolution(matrix, n_sets, n_elems, pheromone_trail)\n",
    "            print(sol)\n",
    "            solutions.append(sol)\n",
    "\n",
    "        # Actualizar sendero de feromonas\n",
    "        updatePheromone(pheromone_trail, n_sets, best_solution, costs, phmax, phmin, evaporation_rate)\n",
    "        \n",
    "        # Actualizar mejor solución\n",
    "        updateBestSolution(sol, best_cost, best_solution, evaporation_rate, costs, epsilon)"
   ]
  },
  {
   "cell_type": "code",
   "execution_count": 14,
   "metadata": {
    "scrolled": true
   },
   "outputs": [
    {
     "name": "stderr",
     "output_type": "stream",
     "text": [
      "UsageError: Line magic function `%%debug` not found.\n"
     ]
    }
   ],
   "source": [
    "path = os.path.join(os.getcwd(), 'dataset', 'scp', \"set_cover_100.txt\")\n",
    "n_elems, n_sets, S, costs = read_data(path)\n",
    "matrix = s_to_matrix(n_sets, n_elems, S)\n",
    "\n",
    "m = 20 # number of ants\n",
    "\n",
    "tours = 50 # number of tours\n",
    "iterations = 1\n",
    "\n",
    "\n",
    "for it in range(iterations):\n",
    "    \n",
    "    #start=datetime.now()\n",
    "    \n",
    "    aco(matrix, m, n_elems, n_sets, tours, costs)\n",
    "    \n",
    "    #time = datetime.now()-start\n",
    "\n",
    "    m+=5"
   ]
  },
  {
   "cell_type": "code",
   "execution_count": null,
   "metadata": {},
   "outputs": [],
   "source": []
  },
  {
   "cell_type": "code",
   "execution_count": null,
   "metadata": {},
   "outputs": [],
   "source": []
  }
 ],
 "metadata": {
  "kernelspec": {
   "display_name": "Python 3",
   "language": "python",
   "name": "python3"
  },
  "language_info": {
   "codemirror_mode": {
    "name": "ipython",
    "version": 3
   },
   "file_extension": ".py",
   "mimetype": "text/x-python",
   "name": "python",
   "nbconvert_exporter": "python",
   "pygments_lexer": "ipython3",
   "version": "3.9.1"
  }
 },
 "nbformat": 4,
 "nbformat_minor": 4
}
