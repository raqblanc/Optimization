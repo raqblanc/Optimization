{
 "cells": [
  {
   "cell_type": "code",
   "execution_count": null,
   "metadata": {},
   "outputs": [],
   "source": [
    "def read_data(path):\n",
    "    S = []\n",
    "    costs = [0]\n",
    "    first = True\n",
    "    with open(path, \"r\") as f:\n",
    "        csv.reader(f, delimiter=\" \")\n",
    "        \n",
    "        for line in f:\n",
    "            info = line.split(\" \")\n",
    "            if first:\n",
    "                first = False\n",
    "                n_sets = info[0]\n",
    "                n_elems = info[1]\n",
    "            else:\n",
    "                s = set()\n",
    "                costs.append(int(info[0]))\n",
    "                info.pop(0)\n",
    "                for e in info:\n",
    "                    e.replace(\"\\n\", \"\")\n",
    "                    s.add(int(e))\n",
    "                S.append(s)\n",
    "    return int(n_elems), int(n_sets), S, costs\n"
   ]
  },
  {
   "cell_type": "code",
   "execution_count": null,
   "metadata": {},
   "outputs": [],
   "source": [
    "def init():\n",
    "    line.set_data([], [])\n",
    "    return line,\n",
    "\n",
    "def animate(i, every_sol,ax,tours,m):\n",
    "    \n",
    "    t = (i*tours)//(tours*m-1) + 1\n",
    "    \n",
    "    ant = i%m + 1\n",
    "    \n",
    "    title = \"Tour: \" + str(t) + \"     Ant: \" + str(ant) \n",
    "    ax.set_title(title, va='top')\n",
    "    sol = every_sol[i]\n",
    "    \n",
    "    x = [i+1 for i in range(n_sets)]\n",
    "    y = []\n",
    "    \n",
    "    for i in range(1, n_sets + 1):\n",
    "        if i in sol:\n",
    "            y.append(1)\n",
    "        else:\n",
    "            y.append(0)\n",
    "    \n",
    "    line.set_data(x, y)\n",
    "    return line,"
   ]
  },
  {
   "cell_type": "code",
   "execution_count": null,
   "metadata": {},
   "outputs": [],
   "source": [
    "def save_animation(tours, m, every_sol, maxx):\n",
    "    Writer = writers['ffmpeg']\n",
    "    writer = Writer(fps=20, metadata=dict(artist='Me'), bitrate=1000)\n",
    "\n",
    "    global line\n",
    "\n",
    "    fig = plt.figure(figsize=(25,10))\n",
    "    ax = plt.axes(xlim=(0,maxx+2), ylim=(-1, 2))\n",
    "    \n",
    "    \n",
    "    line, = ax.plot([],[], color='white', linewidth = 3, \n",
    "         marker='o', markerfacecolor='green', markersize=12)\n",
    "\n",
    "\n",
    "    anim = FuncAnimation(fig, func=animate, blit=True, init_func=init, frames=len(every_sol), repeat=False, fargs=(every_sol,ax,tours,m),interval=100)\n",
    "    \n",
    "    name = \"SetCover-\"+str(tours) + \"tours-\" + str(m) +\"ants\"\n",
    "    anim.save(name + '.mp4', writer=writer, dpi=100)"
   ]
  },
  {
   "cell_type": "code",
   "execution_count": null,
   "metadata": {},
   "outputs": [],
   "source": [
    "def s_to_matrix(n_elems, n_sets, S):\n",
    "    \n",
    "    # Inicializar matriz todo ceros\n",
    "    matrix = np.zeros((n_sets+1, n_elems+1))\n",
    "    \n",
    "    # Los elementos van de 1 a n_elems\n",
    "    \n",
    "    col = 1\n",
    "    for s in S:\n",
    "        for e in s:\n",
    "            matrix[e][col] = 1\n",
    "        col += 1\n",
    "        \n",
    "    return matrix"
   ]
  },
  {
   "cell_type": "markdown",
   "metadata": {},
   "source": [
    "# <center> ACO para Set Cover </center>"
   ]
  },
  {
   "cell_type": "code",
   "execution_count": null,
   "metadata": {},
   "outputs": [],
   "source": [
    "import os\n",
    "import csv\n",
    "import numpy as np\n",
    "import math\n",
    "import matplotlib.pyplot as plt \n",
    "import matplotlib\n",
    "from matplotlib.animation import FuncAnimation\n",
    "from matplotlib.animation import writers"
   ]
  },
  {
   "cell_type": "markdown",
   "metadata": {},
   "source": [
    "Coger un conjunto *j* es factible si cubre el elemento *i* e *i* no está ya cubierto"
   ]
  },
  {
   "cell_type": "code",
   "execution_count": null,
   "metadata": {},
   "outputs": [],
   "source": [
    "def isFeasible(i, j, matrix, currently_uncovered):\n",
    "    return (matrix[i][j] == 1) and (i in currently_uncovered)"
   ]
  },
  {
   "cell_type": "markdown",
   "metadata": {},
   "source": [
    "Calcula cuántos elementos nuevos cubre ej conjunto j"
   ]
  },
  {
   "cell_type": "code",
   "execution_count": null,
   "metadata": {},
   "outputs": [],
   "source": [
    "def calculate_n_new_covered(n_elems, matrix, j, currently_uncovered):\n",
    "    n_new_covered = 0\n",
    "    for i in range(1, n_elems+1):\n",
    "        # Si el conjunto j cubre el elemento i, y el elemento i no está ya cubierto, se suma uno\n",
    "        if (matrix[i][j] == 1) and (i in currently_uncovered):\n",
    "            n_new_covered += 1\n",
    "    return n_new_covered"
   ]
  },
  {
   "cell_type": "markdown",
   "metadata": {},
   "source": [
    "Calcula la probabilidad de que el conjunto *j* sea el elegido para cubrir el elemento *i*. Para ello, utiliza el sendero de feromonas hasta el momento y la heurística eta (número de nuevos elementos que cubre *j* / coste de *j*), la fórmula es la siguiente:\n",
    "<img src=\"img/p_scp.png\" alt=\"Drawing\" style=\"width: 500px;\"/>"
   ]
  },
  {
   "cell_type": "code",
   "execution_count": null,
   "metadata": {},
   "outputs": [],
   "source": [
    "def calculate_probability(i, j, costs, pheromone_trail, matrix, n_elems, n_sets, currently_uncovered):\n",
    "    # psi_j = número de nuevos elementos que puede cubrir el conjunto j\n",
    "    psi_j = calculate_n_new_covered(n_elems, matrix, j, currently_uncovered)\n",
    "    \n",
    "    # eta = heurística\n",
    "    eta = psi_j / costs[j]\n",
    "    \n",
    "    # Importancia relativa de la heurística con respecto a la feromona\n",
    "    beta = 1 # >= 0\n",
    "    \n",
    "    numerator = pheromone_trail[j] * pow(eta, beta)\n",
    "    \n",
    "    denominator = 0\n",
    "    \n",
    "    # Para cada conjunto q que cubre el elemento i\n",
    "    for q in range(1, n_sets+1):\n",
    "        if isFeasible(i, q, matrix, currently_uncovered):\n",
    "            psi_q = calculate_n_new_covered(n_elems, matrix, q, currently_uncovered)\n",
    "            denominator += pheromone_trail[j] * pow((psi_q / costs[q]),beta)\n",
    "    \n",
    "    return numerator / denominator"
   ]
  },
  {
   "cell_type": "markdown",
   "metadata": {},
   "source": [
    "Se actualiza la mejor solución si es que se ha obtenido una de menor coste que la mejor hasta el momento. Además, se actualizan los límites de valor de feromona tmin tmax según las siguientes fórmulas:\n",
    "<img src=\"img/tmax.png\" alt=\"Drawing\" style=\"width: 250px;\"/>\n",
    "<img src=\"img/tmin.png\" alt=\"Drawing\" style=\"width: 130px;\"/>"
   ]
  },
  {
   "cell_type": "code",
   "execution_count": null,
   "metadata": {},
   "outputs": [],
   "source": [
    "def updateBestSolution(sol, best_cost, best_solution, evaporation_rate, costs, epsilon, phmax, phmin):\n",
    "    # Actualizar nueva mejor solución\n",
    "    total_cost = 0\n",
    "    for j in sol:\n",
    "        total_cost += costs[j]\n",
    "    \n",
    "    if total_cost < best_cost:\n",
    "        best_cost = total_cost\n",
    "        best_solution = sol\n",
    "    \n",
    "        # Actualizar phmin y phmax\n",
    "        phmax = 1 / ((1 - evaporation_rate) * best_cost)     # tmax\n",
    "        phmin = epsilon*phmax                                # tmmi\n",
    "    \n",
    "    return best_solution, best_cost, phmax, phmin"
   ]
  },
  {
   "cell_type": "markdown",
   "metadata": {},
   "source": [
    "Devuelve los elementos que cubre el conjunto s"
   ]
  },
  {
   "cell_type": "code",
   "execution_count": null,
   "metadata": {},
   "outputs": [],
   "source": [
    "def covered_by(s, n_elems, matrix):\n",
    "    elems = []\n",
    "    for elem in range(1, n_elems+1):\n",
    "        if matrix[elem][s] == 1:\n",
    "            elems.append(elem)\n",
    "    return elems"
   ]
  },
  {
   "cell_type": "markdown",
   "metadata": {},
   "source": [
    "Una hormiga construye una solución, empezando desde una solución vacía *solution_construction*.\n",
    "\n",
    "\n",
    "Se añaden conjuntos *chosen_set* iterativamente a *solution_construction* hasta que todos los elementos queden cubiertos: \n",
    "\n",
    "1. Se elige un elemento que debe ser cubierto (orden: aleatorio, natural o ascendiente por coste), en esta implementación se ha elegido el orden natural\n",
    "\n",
    "2. Se calcula la probabilidad de cada conjunto j de cubirir el elemento i\n",
    "\n",
    "3. Se elige el conjunto *chosen_set* aleatoriamente (probabilidad)\n",
    "\n",
    "4. Se añade *chosen_set*  a *solution_construction*"
   ]
  },
  {
   "cell_type": "code",
   "execution_count": null,
   "metadata": {},
   "outputs": [],
   "source": [
    "def constructAntSolution(matrix, n_sets, n_elems, pheromone_trail):\n",
    "    solution_construction = []\n",
    "    currently_covered = []\n",
    "    currently_uncovered = [x for x in range(1, n_elems+1)]\n",
    "    \n",
    "    for i in range(1, n_elems+1): # 1.  Elegir un elemento a cubrir\n",
    "        p = []\n",
    "        a = []\n",
    "        if i in currently_uncovered:\n",
    "            for j in range(1, n_sets+1): \n",
    "                if isFeasible(i, j, matrix, currently_uncovered): # Para cada conjunto factible\n",
    "                    # 2.   Calcular la probabilidad de elegir el conjunto j\n",
    "                    p.append(calculate_probability(i, j, costs, pheromone_trail, matrix, n_elems, n_sets, currently_uncovered))\n",
    "                    a.append(j)\n",
    "        \n",
    "            #  3.   Elegir aleatoriamente el conjunto\n",
    "            chosen_set = np.random.choice(a, 1, p=p)[0]\n",
    "            \n",
    "            # Actualizar elementos cubiertos y no cubiertos\n",
    "            for elem in covered_by(chosen_set, n_elems, matrix): \n",
    "                if elem not in currently_covered:\n",
    "                    currently_covered.append(elem)\n",
    "                    currently_uncovered.remove(elem)\n",
    "        \n",
    "            # 4.   Añadir el conjunto seleccionado a la solución\n",
    "            solution_construction.append(chosen_set)\n",
    "\n",
    "    return solution_construction"
   ]
  },
  {
   "cell_type": "markdown",
   "metadata": {},
   "source": [
    "Se actualiza el sendero de feromonas basándose en la fórmula:\n",
    "<img src=\"img/ph_scp.png\" alt=\"Drawing\" style=\"width: 250px;\"/>\n",
    "donde:\n",
    "\n",
    "ⲣ = evaporación de la feromona\n",
    "\n",
    "Δt = cantidad de feromona depositada:\n",
    "\n",
    "[tmin, tmax] = intervalo límite de valor de feromona\n",
    "\n",
    "cq = coste del conjunto q\n",
    "\n",
    "Sgb = mejor solución global hasta el momento (conjunto de conjuntos)"
   ]
  },
  {
   "cell_type": "code",
   "execution_count": null,
   "metadata": {},
   "outputs": [],
   "source": [
    "def updatePheromone(pheromone_trail, n_sets, best_solution, costs, phmax, phmin, evaporation_rate):\n",
    "    \n",
    "    # Evaporation\n",
    "    for j in range(1, n_sets + 1):\n",
    "        pheromone_trail[j] *= (1 - evaporation_rate)\n",
    "    \n",
    "    # Para cada conjunto de la mejor solución, se le suma el valor de la feromona (limitado por phmax y phmin)\n",
    "    for q in best_solution:\n",
    "        phq = pheromone_trail[q] + (1 / costs[q])\n",
    "        if phq > phmax:\n",
    "            pheromone_trail[q] = phmax\n",
    "        elif phq < phmin:\n",
    "            pheromone_trail[q] = phmin\n",
    "        else:\n",
    "            pheromone_trail[q] = phq"
   ]
  },
  {
   "cell_type": "markdown",
   "metadata": {},
   "source": [
    "Algoritmo general del ACO:\n",
    "<img src=\"img/aco.png\" alt=\"Drawing\" style=\"width: 300px;\"/>"
   ]
  },
  {
   "cell_type": "code",
   "execution_count": null,
   "metadata": {},
   "outputs": [],
   "source": [
    "def aco(matrix, m, n_elems, n_sets, tours, costs):\n",
    "    \n",
    "     # 1.   Ajustado en el método que llama a este método (m, n, tours)\n",
    "    \n",
    "    pheromone_trail = []\n",
    "    \n",
    "    best_solution = []\n",
    "    best_cost = math.inf\n",
    "\n",
    "    epsilon = 0.2 # 0 < epsilon < 1 coeficiente de relación\n",
    "    phmax = math.inf\n",
    "    phmin = math.inf\n",
    "    \n",
    "    '''every_sol = [] # Para animación'''\n",
    "    evaporation_rate = 0.3\n",
    "    \n",
    "    # 2.   Inicializar sendero de feromonas, todo a 0\n",
    "    pheromone_trail = [0.000000001]*(n_sets+1)\n",
    "\n",
    "    for t in range(tours):\n",
    "        solutions = []\n",
    "       \n",
    "        # Cada hormiga construye una solución, que se guarda en solutions\n",
    "        for ant in range(m):\n",
    "            # 3.   Construcción de la solución por la hormiga ant\n",
    "            sol = constructAntSolution(matrix, n_sets, n_elems, pheromone_trail)\n",
    "            '''every_sol.append(sol)'''\n",
    "            \n",
    "            solutions.append(sol)\n",
    "            \n",
    "            # Actualizar mejor solución\n",
    "            best_solution, best_cost, phmax, phmin = updateBestSolution(sol, best_cost, best_solution, evaporation_rate, costs, epsilon, phmax, phmin)\n",
    "        \n",
    "\n",
    "        # 4.   Actualización del sendero de feromonas utilizando las soluciones que han generado las m hormigas\n",
    "        updatePheromone(pheromone_trail, n_sets, best_solution, costs, phmax, phmin, evaporation_rate)\n",
    "        \n",
    "       \n",
    "    print(best_solution)\n",
    "    print(best_cost)\n",
    "    '''save_animation(tours, m, every_sol, n_sets)'''"
   ]
  },
  {
   "cell_type": "code",
   "execution_count": null,
   "metadata": {
    "scrolled": true
   },
   "outputs": [],
   "source": [
    "path = os.path.join(os.getcwd(), 'dataset', 'scp', \"set_cover_100.txt\")\n",
    "n_elems, n_sets, S, costs = read_data(path)\n",
    "matrix = s_to_matrix(n_sets, n_elems, S)\n",
    "\n",
    "m = 15 # number of ants\n",
    "\n",
    "tours = 50 # number of tours\n",
    "iterations = 1\n",
    "\n",
    "\n",
    "for it in range(iterations):\n",
    "    \n",
    "    #start=datetime.now()\n",
    "    \n",
    "    aco(matrix, m, n_elems, n_sets, tours, costs)\n",
    "    \n",
    "    #time = datetime.now()-start\n",
    "\n",
    "    m+=5"
   ]
  }
 ],
 "metadata": {
  "kernelspec": {
   "display_name": "Python 3",
   "language": "python",
   "name": "python3"
  },
  "language_info": {
   "codemirror_mode": {
    "name": "ipython",
    "version": 3
   },
   "file_extension": ".py",
   "mimetype": "text/x-python",
   "name": "python",
   "nbconvert_exporter": "python",
   "pygments_lexer": "ipython3",
   "version": "3.9.0"
  }
 },
 "nbformat": 4,
 "nbformat_minor": 4
}
