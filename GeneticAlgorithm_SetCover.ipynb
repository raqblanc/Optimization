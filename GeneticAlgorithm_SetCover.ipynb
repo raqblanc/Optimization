{
 "cells": [
  {
   "cell_type": "code",
   "execution_count": null,
   "metadata": {
    "id": "xRB10wVGs378"
   },
   "outputs": [],
   "source": [
    "import random\n",
    "import numpy as np\n",
    "import csv\n",
    "import math\n",
    "import os\n",
    "import pandas as pd"
   ]
  },
  {
   "cell_type": "code",
   "execution_count": null,
   "metadata": {
    "id": "BUOjQ52dstxh"
   },
   "outputs": [],
   "source": [
    "def read_data(path):\n",
    "    S = []\n",
    "    costs = []\n",
    "    first = True\n",
    "    with open(path, \"r\") as f:\n",
    "        csv.reader(f, delimiter=\" \")\n",
    "        \n",
    "        for line in f:\n",
    "            info = line.split(\" \")\n",
    "            if first:\n",
    "                first = False\n",
    "                n_sets = info[0]\n",
    "                n_elems = info[1]\n",
    "            else:\n",
    "                s = set()\n",
    "                costs.append(int(info[0]))\n",
    "                info.pop(0)\n",
    "                for e in info:\n",
    "                    e.replace(\"\\n\", \"\")\n",
    "                    s.add(int(e))\n",
    "                S.append(s)\n",
    "    return int(n_elems), int(n_sets), S, costs"
   ]
  },
  {
   "cell_type": "code",
   "execution_count": null,
   "metadata": {
    "id": "P0G50DTuuPn2"
   },
   "outputs": [],
   "source": [
    "def initial_population(n_sets, n_indiv):\n",
    "    population = []\n",
    "    for _ in range(n_indiv):\n",
    "        indiv = []\n",
    "        for _ in range(n_sets):\n",
    "            indiv.append(random.randint(0,1))\n",
    "        population.append(indiv)\n",
    "    return population"
   ]
  },
  {
   "cell_type": "code",
   "execution_count": null,
   "metadata": {
    "id": "bt99aNOLwh5n"
   },
   "outputs": [],
   "source": [
    "def crossover(population, n_sets):\n",
    "    i = 0\n",
    "    n_news = 2\n",
    "    new_indivs = []\n",
    "\n",
    "    while i < len(population) - 1:\n",
    "    # Pair\n",
    "    predecessors = []\n",
    "    predecessors.append(population[i])\n",
    "    predecessors.append(population[i+1])\n",
    "    # Choose random predecessor for each allele\n",
    "    for i_indiv in range(n_news):\n",
    "        new_indiv = []\n",
    "        for i_allele in range(n_sets):\n",
    "            new_indiv.append(predecessors[random.randint(0,1)][i_allele])\n",
    "        new_indivs.append(new_indiv)\n",
    "    i += 2\n",
    "\n",
    "    return new_indivs"
   ]
  },
  {
   "cell_type": "code",
   "execution_count": null,
   "metadata": {
    "id": "mHxIsXnZ1L1i"
   },
   "outputs": [],
   "source": [
    "def mutation(indiv, mutation_prob, n_sets):\n",
    "    for i in range(n_sets):\n",
    "        mutate = np.random.choice(\n",
    "          [True, False], \n",
    "          1,\n",
    "          p=[mutation_prob, 1-mutation_prob]\n",
    "        )[0]\n",
    "        if mutate:\n",
    "            indiv[i] = int(not indiv[i])"
   ]
  },
  {
   "cell_type": "code",
   "execution_count": null,
   "metadata": {
    "id": "XbgKR89P4QsX"
   },
   "outputs": [],
   "source": [
    "def isSolution(indiv, sets):\n",
    "  # True if the lenght of the set containing every elem in the chosen sets is equal to n_elems\n",
    "    sets_elems = set()\n",
    "    for i, set_ in enumerate(sets):\n",
    "    if indiv[i]:\n",
    "        for elem in set_:\n",
    "            sets_elems.add(elem)\n",
    "\n",
    "    return len(sets_elems) == n_elems"
   ]
  },
  {
   "cell_type": "code",
   "execution_count": null,
   "metadata": {
    "id": "cNWT4ZUYRVTH"
   },
   "outputs": [],
   "source": [
    "def no_sol_fitness(indiv, sets, n_elems):\n",
    "    elems = set()\n",
    "    \n",
    "    for i, tf in enumerate(indiv):\n",
    "        s = sets[i]\n",
    "        if tf:\n",
    "            for e in s:\n",
    "                elems.add(e)\n",
    "\n",
    "    left = n_elems - len(elems)\n",
    "    return left * 1000"
   ]
  },
  {
   "cell_type": "code",
   "execution_count": null,
   "metadata": {
    "id": "_huTHCjm352_"
   },
   "outputs": [],
   "source": [
    "def fitness(indiv,  sets, costs, n_elems):\n",
    "    total_cost = 0\n",
    "\n",
    "    if not isSolution(indiv,  sets):\n",
    "    total_cost = no_sol_fitness(indiv, sets, n_elems)\n",
    "    else:\n",
    "    for i, set_ in enumerate(sets):\n",
    "        if indiv[i]:\n",
    "            total_cost += costs[i]\n",
    "    return total_cost"
   ]
  },
  {
   "cell_type": "code",
   "execution_count": null,
   "metadata": {
    "id": "RBJgajPvc_sS"
   },
   "outputs": [],
   "source": [
    "def get_random_indiv(already_chosen):\n",
    "    indiv = random.randint(0,len(population)-1)\n",
    "\n",
    "    while indiv in already_chosen:\n",
    "        indiv = random.randint(0,len(population)-1)\n",
    "\n",
    "    return indiv"
   ]
  },
  {
   "cell_type": "code",
   "execution_count": null,
   "metadata": {
    "id": "OI3fR3Gcg3X6"
   },
   "outputs": [],
   "source": [
    "def get_fittest(population, sets, costs, n_elems):\n",
    "\n",
    "    best_fitness = math.inf\n",
    "    i_fittest = -1\n",
    "\n",
    "    for i, indiv in enumerate(population):\n",
    "\n",
    "    value = fitness(indiv, sets, costs, n_elems)\n",
    "    if value < best_fitness:\n",
    "        best_fitness = value\n",
    "        i_fittest = i\n",
    "\n",
    "    return best_fitness, i_fittest"
   ]
  },
  {
   "cell_type": "code",
   "execution_count": null,
   "metadata": {
    "id": "Ywhxq99i3g4c"
   },
   "outputs": [],
   "source": [
    "def selection(population, sets, costs, n_elems):\n",
    "    # Tournament\n",
    "    already_chosen = set()\n",
    "    pairs = []\n",
    "    new_population = []\n",
    "\n",
    "   \n",
    "    while not (len(already_chosen) == len(population)):\n",
    "      \n",
    "        indiv1 = get_random_indiv(already_chosen)\n",
    "        already_chosen.add(indiv1)\n",
    "        \n",
    "\n",
    "        indiv2 = get_random_indiv(already_chosen)\n",
    "        already_chosen.add(indiv2)\n",
    "\n",
    "        pairs = [population[indiv1], population[indiv2]]\n",
    "\n",
    "        fitness, fittest = get_fittest(pairs, sets, costs, n_elems)\n",
    "       \n",
    "        new_population.append(pairs[fittest])\n",
    "\n",
    "    return new_population"
   ]
  },
  {
   "cell_type": "code",
   "execution_count": null,
   "metadata": {
    "colab": {
     "base_uri": "https://localhost:8080/"
    },
    "id": "ZPIQTLYisXff",
    "outputId": "85fc4c9b-fc06-44b9-fd59-76e76db35dfd"
   },
   "outputs": [],
   "source": [
    "count = 1\n",
    "\n",
    "path = os.path.join(os.getcwd(), 'dataset', \"set_cover_200.txt\")\n",
    "\n",
    "n_elems, n_sets, sets, costs = read_data(path)\n",
    "n_indiv = 10\n",
    "population = []\n",
    "mutation_prob = 0.4\n",
    "population = initial_population(n_sets, n_indiv)\n",
    "global_fittest = -1\n",
    "global_best_fitness =  math.inf\n",
    "left = math.inf\n",
    "tries_without_change = 1000\n",
    "since_not_changed = 0\n",
    "#print(\"Sets: \" + str(sets))\n",
    "while since_not_changed < tries_without_change:\n",
    "    print(\"-------------------------------------------------- (\" + str(count) + \") ---------------------------------------------------------\")\n",
    "    #print(\"Selected population (\" + str(len(population)) + \"): \" + str(population))\n",
    "\n",
    "    new_indivs = crossover(population, n_sets)\n",
    "    #print(\"Crossover: \" + str(new_indivs))\n",
    "\n",
    "    for indiv in new_indivs:\n",
    "        mutation(indiv, mutation_prob, n_sets)\n",
    "    #print(\"Mutation: \" + str(new_indivs))\n",
    "\n",
    "    population += new_indivs\n",
    "\n",
    "    #print(\"New population (\" + str(len(population)) + \"): \" + str(population))\n",
    "    population = selection(population, sets, costs, n_elems)\n",
    "\n",
    "    #Update\n",
    "    local_best_fitness, local_fittest = get_fittest(population, sets, costs, n_elems)\n",
    "\n",
    "    if global_best_fitness > local_best_fitness:\n",
    "        global_best_fitness = local_best_fitness\n",
    "        global_fittest = population[local_fittest]\n",
    "        since_not_changed = 0\n",
    "        left = no_sol_fitness(global_fittest, sets, n_elems)//1000\n",
    "    else:\n",
    "        since_not_changed += 1\n",
    "        \n",
    "    print(\"Left: \" + str(left))\n",
    "    print(\"Fittest: (\" + str(global_best_fitness) + \"): \" + str(global_fittest))\n",
    "\n",
    "    print(\"Iterations without changes: \" + str(since_not_changed))\n",
    "\n",
    "    count += 1\n",
    "\n",
    "\n",
    "print(\"---------------------------------------------------------------------------------------------------------------------\")\n"
   ]
  },
  {
   "cell_type": "code",
   "execution_count": null,
   "metadata": {},
   "outputs": [],
   "source": []
  }
 ],
 "metadata": {
  "colab": {
   "collapsed_sections": [],
   "name": "GeneticAlgorithm-SetCover.ipynb",
   "provenance": []
  },
  "kernelspec": {
   "display_name": "Python 3",
   "language": "python",
   "name": "python3"
  },
  "language_info": {
   "codemirror_mode": {
    "name": "ipython",
    "version": 3
   },
   "file_extension": ".py",
   "mimetype": "text/x-python",
   "name": "python",
   "nbconvert_exporter": "python",
   "pygments_lexer": "ipython3",
   "version": "3.9.1"
  }
 },
 "nbformat": 4,
 "nbformat_minor": 1
}
