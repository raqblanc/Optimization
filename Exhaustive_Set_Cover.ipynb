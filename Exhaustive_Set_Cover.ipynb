{
 "cells": [
  {
   "cell_type": "code",
   "execution_count": 1,
   "metadata": {},
   "outputs": [],
   "source": [
    "import math\n",
    "import os\n",
    "import csv\n",
    "from itertools import product"
   ]
  },
  {
   "cell_type": "code",
   "execution_count": 2,
   "metadata": {},
   "outputs": [],
   "source": [
    "def read_data(path):\n",
    "    S = []\n",
    "    costs = []\n",
    "    first = True\n",
    "    with open(path, \"r\") as f:\n",
    "        csv.reader(f, delimiter=\" \")\n",
    "        \n",
    "        for line in f:\n",
    "            info = line.split(\" \")\n",
    "            if first:\n",
    "                first = False\n",
    "                n_sets = info[0]\n",
    "                n_elems = info[1]\n",
    "            else:\n",
    "                s = set()\n",
    "                costs.append(int(info[0]))\n",
    "                info.pop(0)\n",
    "                for e in info:\n",
    "                    e.replace(\"\\n\", \"\")\n",
    "                    s.add(int(e))\n",
    "                S.append(s)\n",
    "    return int(n_elems), int(n_sets), S, costs"
   ]
  },
  {
   "cell_type": "code",
   "execution_count": 3,
   "metadata": {},
   "outputs": [],
   "source": [
    "def isSolution(sample, sets):\n",
    "    sets_elems = set()\n",
    "    for i, set_ in enumerate(sets):\n",
    "        if sample[i]:\n",
    "            for elem in set_:\n",
    "                sets_elems.add(elem)\n",
    "        \n",
    "    return len(sets_elems) == n_elems"
   ]
  },
  {
   "cell_type": "code",
   "execution_count": 4,
   "metadata": {},
   "outputs": [],
   "source": [
    "def cost(sample,  sets, costs):\n",
    "    total_cost = 0\n",
    "\n",
    "    if not isSolution(sample,  sets):\n",
    "        total_cost = math.inf\n",
    "    else:\n",
    "        for i, set_ in enumerate(sets):\n",
    "            if sample[i]:\n",
    "                total_cost += costs[i]\n",
    "    return total_cost"
   ]
  },
  {
   "cell_type": "code",
   "execution_count": 5,
   "metadata": {},
   "outputs": [],
   "source": [
    "def exhaustive_algorithm(sets, costs, n_elems):\n",
    "    samples = list(product(range(2), repeat=len(sets)))\n",
    "    best_cost = math.inf\n",
    "    best_sample = []\n",
    "    for sample in samples:\n",
    "        f = cost(sample, sets, costs)\n",
    "        if best_cost > f:\n",
    "            best_cost = f\n",
    "            best_sample = sample\n",
    "        print(sample)\n",
    "    return best_cost, best_sample"
   ]
  },
  {
   "cell_type": "code",
   "execution_count": 6,
   "metadata": {},
   "outputs": [
    {
     "name": "stdout",
     "output_type": "stream",
     "text": [
      "hola\n",
      "(0, 0, 0, 0, 0)\n",
      "(0, 0, 0, 0, 1)\n",
      "(0, 0, 0, 1, 0)\n",
      "(0, 0, 0, 1, 1)\n",
      "(0, 0, 1, 0, 0)\n",
      "(0, 0, 1, 0, 1)\n",
      "(0, 0, 1, 1, 0)\n",
      "(0, 0, 1, 1, 1)\n",
      "(0, 1, 0, 0, 0)\n",
      "(0, 1, 0, 0, 1)\n",
      "(0, 1, 0, 1, 0)\n",
      "(0, 1, 0, 1, 1)\n",
      "(0, 1, 1, 0, 0)\n",
      "(0, 1, 1, 0, 1)\n",
      "(0, 1, 1, 1, 0)\n",
      "(0, 1, 1, 1, 1)\n",
      "(1, 0, 0, 0, 0)\n",
      "(1, 0, 0, 0, 1)\n",
      "(1, 0, 0, 1, 0)\n",
      "(1, 0, 0, 1, 1)\n",
      "(1, 0, 1, 0, 0)\n",
      "(1, 0, 1, 0, 1)\n",
      "(1, 0, 1, 1, 0)\n",
      "(1, 0, 1, 1, 1)\n",
      "(1, 1, 0, 0, 0)\n",
      "(1, 1, 0, 0, 1)\n",
      "(1, 1, 0, 1, 0)\n",
      "(1, 1, 0, 1, 1)\n",
      "(1, 1, 1, 0, 0)\n",
      "(1, 1, 1, 0, 1)\n",
      "(1, 1, 1, 1, 0)\n",
      "(1, 1, 1, 1, 1)\n",
      "Solution: (1, 0, 0, 1, 1)\n",
      "Total cost: 19\n"
     ]
    }
   ],
   "source": [
    "path = os.path.join(os.getcwd(), 'dataset', \"set_cover_5.txt\")\n",
    "\n",
    "n_elems, n_sets, sets, costs = read_data(path)\n",
    "\n",
    "cost, sample = exhaustive_algorithm(sets, costs, n_elems)\n",
    "print('Solution:', sample)\n",
    "print('Total cost:', cost)"
   ]
  }
 ],
 "metadata": {
  "kernelspec": {
   "display_name": "Python 3",
   "language": "python",
   "name": "python3"
  },
  "language_info": {
   "codemirror_mode": {
    "name": "ipython",
    "version": 3
   },
   "file_extension": ".py",
   "mimetype": "text/x-python",
   "name": "python",
   "nbconvert_exporter": "python",
   "pygments_lexer": "ipython3",
   "version": "3.9.1"
  }
 },
 "nbformat": 4,
 "nbformat_minor": 4
}
